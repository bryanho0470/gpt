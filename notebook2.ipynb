{
 "cells": [
  {
   "cell_type": "code",
   "execution_count": 2,
   "metadata": {},
   "outputs": [
    {
     "data": {
      "text/plain": [
       "'To make Korean spicy food, you will need to use a variety of spicy ingredients such as gochujang (Korean red chili paste), gochugaru (Korean red chili flakes), and kimchi (fermented spicy cabbage). Here is a simple recipe for making a popular Korean spicy dish called Kimchi Jjigae (Kimchi Stew):\\n\\nIngredients:\\n- 2 cups of kimchi, chopped\\n- 1/2 pound of pork belly or tofu, sliced\\n- 1 onion, sliced\\n- 2 cloves of garlic, minced\\n- 1 tablespoon of gochujang\\n- 1 tablespoon of gochugaru\\n- 4 cups of water or broth\\n- 1 tablespoon of soy sauce\\n- 1 tablespoon of sesame oil\\n- Salt and pepper to taste\\n- Optional: vegetables such as mushrooms, zucchini, or tofu\\n\\nInstructions:\\n1. In a large pot, heat the sesame oil over medium heat. Add the pork belly or tofu and cook until browned.\\n2. Add the onion and garlic, and cook until softened.\\n3. Stir in the gochujang and gochugaru, and cook for another minute.\\n4. Add the chopped kimchi and cook for a few minutes until it starts to soften.\\n5. Pour in the water or broth and bring to a boil. Reduce heat and simmer for about 20 minutes.\\n6. Add the soy sauce, salt, and pepper to taste. Adjust the spiciness by adding more gochugaru if desired.\\n7. Add any additional vegetables or tofu, and cook until they are tender.\\n8. Serve hot with a bowl of rice.\\n\\nEnjoy your spicy Korean dish!'"
      ]
     },
     "execution_count": 2,
     "metadata": {},
     "output_type": "execute_result"
    }
   ],
   "source": [
    "from langchain.chat_models import ChatOpenAI\n",
    "from langchain.callbacks import StreamingStdOutCallbackHandler\n",
    "from langchain.globals import set_llm_cache\n",
    "from langchain.cache import InMemoryCache\n",
    "\n",
    "set_llm_cache(InMemoryCache())\n",
    "\n",
    "chat = ChatOpenAI(\n",
    "    temperature=0.1,\n",
    "    # streaming=True,\n",
    "    # callbacks=[\n",
    "    #     StreamingStdOutCallbackHandler(),\n",
    "    # ]\n",
    ")\n",
    "\n",
    "chat.predict(\"How do you make korean spicy food\")"
   ]
  }
 ],
 "metadata": {
  "kernelspec": {
   "display_name": "env",
   "language": "python",
   "name": "python3"
  },
  "language_info": {
   "codemirror_mode": {
    "name": "ipython",
    "version": 3
   },
   "file_extension": ".py",
   "mimetype": "text/x-python",
   "name": "python",
   "nbconvert_exporter": "python",
   "pygments_lexer": "ipython3",
   "version": "3.11.10"
  }
 },
 "nbformat": 4,
 "nbformat_minor": 2
}
