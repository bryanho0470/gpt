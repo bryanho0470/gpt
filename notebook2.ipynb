{
 "cells": [
  {
   "cell_type": "code",
   "execution_count": null,
   "metadata": {},
   "outputs": [
    {
     "name": "stdout",
     "output_type": "stream",
     "text": [
      "\u001b[32;1m\u001b[1;3m[llm/start]\u001b[0m \u001b[1m[1:llm:ChatOpenAI] Entering LLM run with input:\n",
      "\u001b[0m{\n",
      "  \"prompts\": [\n",
      "    \"Human: How do you make korean spicy food\"\n",
      "  ]\n",
      "}\n",
      "\u001b[36;1m\u001b[1;3m[llm/end]\u001b[0m \u001b[1m[1:llm:ChatOpenAI] [2.54s] Exiting LLM run with output:\n",
      "\u001b[0m{\n",
      "  \"generations\": [\n",
      "    [\n",
      "      {\n",
      "        \"text\": \"To make Korean spicy food, you will need to use a variety of spicy ingredients such as gochujang (Korean red chili paste), gochugaru (Korean red chili flakes), and kimchi (fermented spicy cabbage). Here is a simple recipe for making a popular Korean spicy dish called kimchi jjigae (spicy kimchi stew):\\n\\nIngredients:\\n- 2 cups of kimchi, chopped\\n- 1/2 pound of pork belly or tofu, sliced\\n- 1 onion, sliced\\n- 2 cloves of garlic, minced\\n- 1 tablespoon of gochujang\\n- 1 tablespoon of gochugaru\\n- 4 cups of water or broth\\n- 1 tablespoon of soy sauce\\n- 1 tablespoon of sesame oil\\n- Salt and pepper to taste\\n- Optional: sliced green onions, tofu, mushrooms, or other vegetables\\n\\nInstructions:\\n1. In a large pot, heat the sesame oil over medium heat. Add the pork belly or tofu and cook until browned.\\n2. Add the onion and garlic, and sauté until fragrant.\\n3. Stir in the gochujang and gochugaru, and cook for another minute.\\n4. Add the chopped kimchi and cook for a few minutes until it starts to soften.\\n5. Pour in the water or broth and bring to a boil. Reduce heat and simmer for about 20 minutes.\\n6. Season with soy sauce, salt, and pepper to taste.\\n7. Add any additional vegetables or tofu, if desired, and cook until they are tender.\\n8. Serve hot with a bowl of rice on the side.\\n\\nEnjoy your spicy Korean kimchi jjigae!\",\n",
      "        \"generation_info\": {\n",
      "          \"finish_reason\": \"stop\"\n",
      "        },\n",
      "        \"type\": \"ChatGeneration\",\n",
      "        \"message\": {\n",
      "          \"lc\": 1,\n",
      "          \"type\": \"constructor\",\n",
      "          \"id\": [\n",
      "            \"langchain\",\n",
      "            \"schema\",\n",
      "            \"messages\",\n",
      "            \"AIMessage\"\n",
      "          ],\n",
      "          \"kwargs\": {\n",
      "            \"content\": \"To make Korean spicy food, you will need to use a variety of spicy ingredients such as gochujang (Korean red chili paste), gochugaru (Korean red chili flakes), and kimchi (fermented spicy cabbage). Here is a simple recipe for making a popular Korean spicy dish called kimchi jjigae (spicy kimchi stew):\\n\\nIngredients:\\n- 2 cups of kimchi, chopped\\n- 1/2 pound of pork belly or tofu, sliced\\n- 1 onion, sliced\\n- 2 cloves of garlic, minced\\n- 1 tablespoon of gochujang\\n- 1 tablespoon of gochugaru\\n- 4 cups of water or broth\\n- 1 tablespoon of soy sauce\\n- 1 tablespoon of sesame oil\\n- Salt and pepper to taste\\n- Optional: sliced green onions, tofu, mushrooms, or other vegetables\\n\\nInstructions:\\n1. In a large pot, heat the sesame oil over medium heat. Add the pork belly or tofu and cook until browned.\\n2. Add the onion and garlic, and sauté until fragrant.\\n3. Stir in the gochujang and gochugaru, and cook for another minute.\\n4. Add the chopped kimchi and cook for a few minutes until it starts to soften.\\n5. Pour in the water or broth and bring to a boil. Reduce heat and simmer for about 20 minutes.\\n6. Season with soy sauce, salt, and pepper to taste.\\n7. Add any additional vegetables or tofu, if desired, and cook until they are tender.\\n8. Serve hot with a bowl of rice on the side.\\n\\nEnjoy your spicy Korean kimchi jjigae!\",\n",
      "            \"additional_kwargs\": {}\n",
      "          }\n",
      "        }\n",
      "      }\n",
      "    ]\n",
      "  ],\n",
      "  \"llm_output\": {\n",
      "    \"token_usage\": {\n",
      "      \"prompt_tokens\": 15,\n",
      "      \"completion_tokens\": 349,\n",
      "      \"total_tokens\": 364,\n",
      "      \"prompt_tokens_details\": {\n",
      "        \"cached_tokens\": 0,\n",
      "        \"audio_tokens\": 0\n",
      "      },\n",
      "      \"completion_tokens_details\": {\n",
      "        \"reasoning_tokens\": 0,\n",
      "        \"audio_tokens\": 0,\n",
      "        \"accepted_prediction_tokens\": 0,\n",
      "        \"rejected_prediction_tokens\": 0\n",
      "      }\n",
      "    },\n",
      "    \"model_name\": \"gpt-3.5-turbo\",\n",
      "    \"system_fingerprint\": null\n",
      "  },\n",
      "  \"run\": null\n",
      "}\n"
     ]
    },
    {
     "data": {
      "text/plain": [
       "'To make Korean spicy food, you will need to use a variety of spicy ingredients such as gochujang (Korean red chili paste), gochugaru (Korean red chili flakes), and kimchi (fermented spicy cabbage). Here is a simple recipe for making a popular Korean spicy dish called kimchi jjigae (spicy kimchi stew):\\n\\nIngredients:\\n- 2 cups of kimchi, chopped\\n- 1/2 pound of pork belly or tofu, sliced\\n- 1 onion, sliced\\n- 2 cloves of garlic, minced\\n- 1 tablespoon of gochujang\\n- 1 tablespoon of gochugaru\\n- 4 cups of water or broth\\n- 1 tablespoon of soy sauce\\n- 1 tablespoon of sesame oil\\n- Salt and pepper to taste\\n- Optional: sliced green onions, tofu, mushrooms, or other vegetables\\n\\nInstructions:\\n1. In a large pot, heat the sesame oil over medium heat. Add the pork belly or tofu and cook until browned.\\n2. Add the onion and garlic, and sauté until fragrant.\\n3. Stir in the gochujang and gochugaru, and cook for another minute.\\n4. Add the chopped kimchi and cook for a few minutes until it starts to soften.\\n5. Pour in the water or broth and bring to a boil. Reduce heat and simmer for about 20 minutes.\\n6. Season with soy sauce, salt, and pepper to taste.\\n7. Add any additional vegetables or tofu, if desired, and cook until they are tender.\\n8. Serve hot with a bowl of rice on the side.\\n\\nEnjoy your spicy Korean kimchi jjigae!'"
      ]
     },
     "execution_count": 3,
     "metadata": {},
     "output_type": "execute_result"
    }
   ],
   "source": [
    "from langchain.chat_models import ChatOpenAI\n",
    "from langchain.callbacks import StreamingStdOutCallbackHandler\n",
    "from langchain.globals import set_llm_cache, set_debug\n",
    "from langchain.cache import InMemoryCache, SQLiteCache\n",
    "\n",
    "set_llm_cache(SQLiteCache(\"cache.db\"))\n",
    "set_debug(True)\n",
    "\n",
    "chat = ChatOpenAI(\n",
    "    temperature=0.1,\n",
    "    # streaming=True,\n",
    "    # callbacks=[\n",
    "    #     StreamingStdOutCallbackHandler(),\n",
    "    # ]\n",
    ")\n",
    "\n",
    "chat.predict(\"How do you make korean spicy food\")"
   ]
  },
  {
   "cell_type": "code",
   "execution_count": 4,
   "metadata": {},
   "outputs": [
    {
     "name": "stdout",
     "output_type": "stream",
     "text": [
      "\u001b[32;1m\u001b[1;3m[llm/start]\u001b[0m \u001b[1m[1:llm:ChatOpenAI] Entering LLM run with input:\n",
      "\u001b[0m{\n",
      "  \"prompts\": [\n",
      "    \"Human: How do you make korean spicy food\"\n",
      "  ]\n",
      "}\n",
      "\u001b[36;1m\u001b[1;3m[llm/end]\u001b[0m \u001b[1m[1:llm:ChatOpenAI] [1ms] Exiting LLM run with output:\n",
      "\u001b[0m{\n",
      "  \"generations\": [\n",
      "    [\n",
      "      {\n",
      "        \"text\": \"To make Korean spicy food, you will need to use a variety of spicy ingredients such as gochujang (Korean red chili paste), gochugaru (Korean red chili flakes), and kimchi (fermented spicy cabbage). Here is a simple recipe for making a popular Korean spicy dish called kimchi jjigae (spicy kimchi stew):\\n\\nIngredients:\\n- 2 cups of kimchi, chopped\\n- 1/2 pound of pork belly or tofu, sliced\\n- 1 onion, sliced\\n- 2 cloves of garlic, minced\\n- 1 tablespoon of gochujang\\n- 1 tablespoon of gochugaru\\n- 4 cups of water or broth\\n- 1 tablespoon of soy sauce\\n- 1 tablespoon of sesame oil\\n- Salt and pepper to taste\\n- Optional: sliced green onions, tofu, mushrooms, or other vegetables\\n\\nInstructions:\\n1. In a large pot, heat the sesame oil over medium heat. Add the pork belly or tofu and cook until browned.\\n2. Add the onion and garlic, and sauté until fragrant.\\n3. Stir in the gochujang and gochugaru, and cook for another minute.\\n4. Add the chopped kimchi and cook for a few minutes until it starts to soften.\\n5. Pour in the water or broth and bring to a boil. Reduce heat and simmer for about 20 minutes.\\n6. Season with soy sauce, salt, and pepper to taste.\\n7. Add any additional vegetables or tofu, if desired, and cook until they are tender.\\n8. Serve hot with a bowl of rice on the side.\\n\\nEnjoy your spicy Korean kimchi jjigae!\",\n",
      "        \"generation_info\": {\n",
      "          \"finish_reason\": \"stop\"\n",
      "        },\n",
      "        \"type\": \"ChatGeneration\",\n",
      "        \"message\": {\n",
      "          \"lc\": 1,\n",
      "          \"type\": \"constructor\",\n",
      "          \"id\": [\n",
      "            \"langchain\",\n",
      "            \"schema\",\n",
      "            \"messages\",\n",
      "            \"AIMessage\"\n",
      "          ],\n",
      "          \"kwargs\": {\n",
      "            \"content\": \"To make Korean spicy food, you will need to use a variety of spicy ingredients such as gochujang (Korean red chili paste), gochugaru (Korean red chili flakes), and kimchi (fermented spicy cabbage). Here is a simple recipe for making a popular Korean spicy dish called kimchi jjigae (spicy kimchi stew):\\n\\nIngredients:\\n- 2 cups of kimchi, chopped\\n- 1/2 pound of pork belly or tofu, sliced\\n- 1 onion, sliced\\n- 2 cloves of garlic, minced\\n- 1 tablespoon of gochujang\\n- 1 tablespoon of gochugaru\\n- 4 cups of water or broth\\n- 1 tablespoon of soy sauce\\n- 1 tablespoon of sesame oil\\n- Salt and pepper to taste\\n- Optional: sliced green onions, tofu, mushrooms, or other vegetables\\n\\nInstructions:\\n1. In a large pot, heat the sesame oil over medium heat. Add the pork belly or tofu and cook until browned.\\n2. Add the onion and garlic, and sauté until fragrant.\\n3. Stir in the gochujang and gochugaru, and cook for another minute.\\n4. Add the chopped kimchi and cook for a few minutes until it starts to soften.\\n5. Pour in the water or broth and bring to a boil. Reduce heat and simmer for about 20 minutes.\\n6. Season with soy sauce, salt, and pepper to taste.\\n7. Add any additional vegetables or tofu, if desired, and cook until they are tender.\\n8. Serve hot with a bowl of rice on the side.\\n\\nEnjoy your spicy Korean kimchi jjigae!\",\n",
      "            \"additional_kwargs\": {}\n",
      "          }\n",
      "        }\n",
      "      }\n",
      "    ]\n",
      "  ],\n",
      "  \"llm_output\": null,\n",
      "  \"run\": null\n",
      "}\n"
     ]
    },
    {
     "data": {
      "text/plain": [
       "'To make Korean spicy food, you will need to use a variety of spicy ingredients such as gochujang (Korean red chili paste), gochugaru (Korean red chili flakes), and kimchi (fermented spicy cabbage). Here is a simple recipe for making a popular Korean spicy dish called kimchi jjigae (spicy kimchi stew):\\n\\nIngredients:\\n- 2 cups of kimchi, chopped\\n- 1/2 pound of pork belly or tofu, sliced\\n- 1 onion, sliced\\n- 2 cloves of garlic, minced\\n- 1 tablespoon of gochujang\\n- 1 tablespoon of gochugaru\\n- 4 cups of water or broth\\n- 1 tablespoon of soy sauce\\n- 1 tablespoon of sesame oil\\n- Salt and pepper to taste\\n- Optional: sliced green onions, tofu, mushrooms, or other vegetables\\n\\nInstructions:\\n1. In a large pot, heat the sesame oil over medium heat. Add the pork belly or tofu and cook until browned.\\n2. Add the onion and garlic, and sauté until fragrant.\\n3. Stir in the gochujang and gochugaru, and cook for another minute.\\n4. Add the chopped kimchi and cook for a few minutes until it starts to soften.\\n5. Pour in the water or broth and bring to a boil. Reduce heat and simmer for about 20 minutes.\\n6. Season with soy sauce, salt, and pepper to taste.\\n7. Add any additional vegetables or tofu, if desired, and cook until they are tender.\\n8. Serve hot with a bowl of rice on the side.\\n\\nEnjoy your spicy Korean kimchi jjigae!'"
      ]
     },
     "execution_count": 4,
     "metadata": {},
     "output_type": "execute_result"
    }
   ],
   "source": [
    "chat.predict(\"How do you make korean spicy food\")"
   ]
  }
 ],
 "metadata": {
  "kernelspec": {
   "display_name": "env",
   "language": "python",
   "name": "python3"
  },
  "language_info": {
   "codemirror_mode": {
    "name": "ipython",
    "version": 3
   },
   "file_extension": ".py",
   "mimetype": "text/x-python",
   "name": "python",
   "nbconvert_exporter": "python",
   "pygments_lexer": "ipython3",
   "version": "3.11.10"
  }
 },
 "nbformat": 4,
 "nbformat_minor": 2
}
