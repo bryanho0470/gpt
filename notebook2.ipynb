{
 "cells": [
  {
   "cell_type": "code",
   "execution_count": 3,
   "metadata": {},
   "outputs": [
    {
     "name": "stdout",
     "output_type": "stream",
     "text": [
      "\u001b[32;1m\u001b[1;3m[llm/start]\u001b[0m \u001b[1m[1:llm:ChatOpenAI] Entering LLM run with input:\n",
      "\u001b[0m{\n",
      "  \"prompts\": [\n",
      "    \"Human: What is the recipe for OKONOMIYAKI\"\n",
      "  ]\n",
      "}\n",
      "\u001b[36;1m\u001b[1;3m[llm/end]\u001b[0m \u001b[1m[1:llm:ChatOpenAI] [2.53s] Exiting LLM run with output:\n",
      "\u001b[0m{\n",
      "  \"generations\": [\n",
      "    [\n",
      "      {\n",
      "        \"text\": \"Okonomiyaki is a popular Japanese savory pancake that can be customized with various ingredients. Here is a basic recipe for Okonomiyaki:\\n\\nIngredients:\\n- 1 cup all-purpose flour\\n- 1 cup dashi (Japanese soup stock) or water\\n- 2 eggs\\n- 2 cups shredded cabbage\\n- 4 green onions, chopped\\n- 1/2 cup cooked protein (such as shrimp, pork, or chicken), chopped\\n- 1/4 cup tenkasu (tempura scraps)\\n- 1/4 cup pickled ginger\\n- Okonomiyaki sauce\\n- Japanese mayonnaise\\n- Aonori (dried seaweed flakes)\\n- Katsuobushi (dried bonito flakes)\\n\\nInstructions:\\n1. In a large bowl, mix together the flour, dashi or water, and eggs until smooth.\\n2. Add the shredded cabbage, green onions, cooked protein, tenkasu, and pickled ginger to the batter and mix well.\\n3. Heat a non-stick skillet or griddle over medium heat and lightly oil the surface.\\n4. Pour a portion of the batter onto the skillet to form a pancake shape, about 1/2 inch thick.\\n5. Cook the okonomiyaki for about 5-7 minutes on each side, or until golden brown and cooked through.\\n6. Transfer the cooked okonomiyaki to a plate and drizzle with okonomiyaki sauce and Japanese mayonnaise.\\n7. Sprinkle with aonori and katsuobushi before serving.\\n\\nEnjoy your homemade Okonomiyaki! Feel free to customize the recipe with your favorite ingredients.\",\n",
      "        \"generation_info\": {\n",
      "          \"finish_reason\": \"stop\"\n",
      "        },\n",
      "        \"type\": \"ChatGeneration\",\n",
      "        \"message\": {\n",
      "          \"lc\": 1,\n",
      "          \"type\": \"constructor\",\n",
      "          \"id\": [\n",
      "            \"langchain\",\n",
      "            \"schema\",\n",
      "            \"messages\",\n",
      "            \"AIMessage\"\n",
      "          ],\n",
      "          \"kwargs\": {\n",
      "            \"content\": \"Okonomiyaki is a popular Japanese savory pancake that can be customized with various ingredients. Here is a basic recipe for Okonomiyaki:\\n\\nIngredients:\\n- 1 cup all-purpose flour\\n- 1 cup dashi (Japanese soup stock) or water\\n- 2 eggs\\n- 2 cups shredded cabbage\\n- 4 green onions, chopped\\n- 1/2 cup cooked protein (such as shrimp, pork, or chicken), chopped\\n- 1/4 cup tenkasu (tempura scraps)\\n- 1/4 cup pickled ginger\\n- Okonomiyaki sauce\\n- Japanese mayonnaise\\n- Aonori (dried seaweed flakes)\\n- Katsuobushi (dried bonito flakes)\\n\\nInstructions:\\n1. In a large bowl, mix together the flour, dashi or water, and eggs until smooth.\\n2. Add the shredded cabbage, green onions, cooked protein, tenkasu, and pickled ginger to the batter and mix well.\\n3. Heat a non-stick skillet or griddle over medium heat and lightly oil the surface.\\n4. Pour a portion of the batter onto the skillet to form a pancake shape, about 1/2 inch thick.\\n5. Cook the okonomiyaki for about 5-7 minutes on each side, or until golden brown and cooked through.\\n6. Transfer the cooked okonomiyaki to a plate and drizzle with okonomiyaki sauce and Japanese mayonnaise.\\n7. Sprinkle with aonori and katsuobushi before serving.\\n\\nEnjoy your homemade Okonomiyaki! Feel free to customize the recipe with your favorite ingredients.\",\n",
      "            \"additional_kwargs\": {}\n",
      "          }\n",
      "        }\n",
      "      }\n",
      "    ]\n",
      "  ],\n",
      "  \"llm_output\": {\n",
      "    \"token_usage\": {\n",
      "      \"prompt_tokens\": 19,\n",
      "      \"completion_tokens\": 342,\n",
      "      \"total_tokens\": 361,\n",
      "      \"prompt_tokens_details\": {\n",
      "        \"cached_tokens\": 0,\n",
      "        \"audio_tokens\": 0\n",
      "      },\n",
      "      \"completion_tokens_details\": {\n",
      "        \"reasoning_tokens\": 0,\n",
      "        \"audio_tokens\": 0,\n",
      "        \"accepted_prediction_tokens\": 0,\n",
      "        \"rejected_prediction_tokens\": 0\n",
      "      }\n",
      "    },\n",
      "    \"model_name\": \"gpt-3.5-turbo\",\n",
      "    \"system_fingerprint\": null\n",
      "  },\n",
      "  \"run\": null\n",
      "}\n",
      "Tokens Used: 361\n",
      "\tPrompt Tokens: 19\n",
      "\tCompletion Tokens: 342\n",
      "Successful Requests: 1\n",
      "Total Cost (USD): $0.0007125\n"
     ]
    }
   ],
   "source": [
    "from langchain.chat_models import ChatOpenAI\n",
    "from langchain.callbacks import get_openai_callback\n",
    "\n",
    "chat = ChatOpenAI (\n",
    "    temperature=0.1\n",
    ")\n",
    "\n",
    "with get_openai_callback() as usage:\n",
    "    chat.predict(\"What is the recipe for OKONOMIYAKI\")\n",
    "    print(usage)\n"
   ]
  }
 ],
 "metadata": {
  "kernelspec": {
   "display_name": "env",
   "language": "python",
   "name": "python3"
  },
  "language_info": {
   "codemirror_mode": {
    "name": "ipython",
    "version": 3
   },
   "file_extension": ".py",
   "mimetype": "text/x-python",
   "name": "python",
   "nbconvert_exporter": "python",
   "pygments_lexer": "ipython3",
   "version": "3.11.10"
  }
 },
 "nbformat": 4,
 "nbformat_minor": 2
}
