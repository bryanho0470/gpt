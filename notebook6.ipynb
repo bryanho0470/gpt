{
 "cells": [
  {
   "cell_type": "code",
   "execution_count": 5,
   "metadata": {},
   "outputs": [],
   "source": [
    "import subprocess\n",
    "from pydub import AudioSegment\n",
    "\n",
    "def extrac_audio_from_video(video_path, audio_path):\n",
    "    command = [\"ffmpeg\", \"-i\", video_path, \"-vn\", audio_path,]\n",
    "\n",
    "    subprocess.run(command)\n",
    "\n",
    "# extrac_audio_from_video(\"./files/sample_video.mp4\",\"./sample_audio.mp3\") \n",
    "#  this code run just onetime, because we have got audio file with this code.\n",
    "\n",
    "track = AudioSegment.from_mp3(\"./files/sample_audio.mp3\")\n",
    "\n",
    "ten_minutes_to_milliseconds = 10 * 60 * 1000\n",
    "\n"
   ]
  },
  {
   "cell_type": "code",
   "execution_count": 6,
   "metadata": {},
   "outputs": [],
   "source": [
    "import math\n",
    "\n",
    "chunks = math.ceil(len(track) / ten_minutes_to_milliseconds)\n",
    "\n",
    "for i in range(chunks):\n",
    "    start_time = i * ten_minutes_to_milliseconds\n",
    "    end_time = (i+1) * ten_minutes_to_milliseconds\n",
    "\n",
    "    chunk = track[start_time:end_time]\n",
    "    chunk.export(f\"./files/chunks/chunk_{i}.mp3\", format=\"mp3\")"
   ]
  },
  {
   "cell_type": "code",
   "execution_count": null,
   "metadata": {},
   "outputs": [],
   "source": []
  }
 ],
 "metadata": {
  "kernelspec": {
   "display_name": "env",
   "language": "python",
   "name": "python3"
  },
  "language_info": {
   "codemirror_mode": {
    "name": "ipython",
    "version": 3
   },
   "file_extension": ".py",
   "mimetype": "text/x-python",
   "name": "python",
   "nbconvert_exporter": "python",
   "pygments_lexer": "ipython3",
   "version": "3.11.10"
  }
 },
 "nbformat": 4,
 "nbformat_minor": 2
}
