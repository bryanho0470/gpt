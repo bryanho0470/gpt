{
 "cells": [
  {
   "cell_type": "code",
   "execution_count": 17,
   "metadata": {},
   "outputs": [],
   "source": [
    "import subprocess\n",
    "from pydub import AudioSegment\n",
    "import math\n",
    "\n",
    "def extrac_audio_from_video(video_path, audio_path):\n",
    "    command = [\"ffmpeg\", \"-i\", video_path, \"-vn\", audio_path,]\n",
    "\n",
    "    subprocess.run(command)\n",
    "\n",
    "# extrac_audio_from_video(\"./files/sample_video.mp4\",\"./sample_audio.mp3\") \n",
    "#  this code run just onetime, because we have got audio file with this code.\n",
    "\n",
    "\n",
    "\n",
    "def cut_audio_to_chunks(audio_path, chunk_size, chunks_folder):\n",
    "    track = AudioSegment.from_mp3(audio_path)\n",
    "    chunk_len = chunk_size * 60 * 1000\n",
    "    chunks = math.ceil(len(track) / chunk_len)\n",
    "    for i in range(chunks):\n",
    "        start_time = i * chunk_len\n",
    "        end_time = (i+1) * chunk_len\n",
    "\n",
    "        chunk = track[start_time:end_time]\n",
    "        chunk.export(f\"{chunks_folder}/chunk_{i}.mp3\", format=\"mp3\")\n",
    "\n"
   ]
  },
  {
   "cell_type": "code",
   "execution_count": 18,
   "metadata": {},
   "outputs": [],
   "source": [
    "# cut_audio_to_chunks(\"./files/sample_audio.mp3\",3, \"./files/chunks\")"
   ]
  },
  {
   "cell_type": "code",
   "execution_count": null,
   "metadata": {},
   "outputs": [
    {
     "data": {
      "text/plain": [
       "<OpenAIObject at 0x1287f4770> JSON: {\n",
       "  \"text\": \"A formidable distance, even in today's world. And yet over that vast distance, human beings have pursued one of history's greatest enterprises, the Silk Road. A tremendously profitable trade route, and so much more. For thousands of years, exotic goods, new technologies, conquering armies, and brilliant ideas travelled along the Silk Road. Silk Road trade helped to build empires, and to break them. It fanned the fires of revolution, drove great explorations, and forged powerful bonds between faraway peoples. The Silk Road made human beings realize that there are other people out there. And it opened the eyes of the East and the West. This is the story of how Silk Road trade made so much more than money. It's the epic tale of how the Silk Road helped create a world, a world that created us. 2,000 years ago, the Roman Empire seemed unstoppable. Rome had conquered much of Europe, and was sending its legions beyond the Eastern Mediterranean to the Middle East, gateway to the riches of Asia. But a journey to the East could become a road of blood. In 53 BCE, near the Mesopotamian town of Kari, the Parthians, an empire blending Persian and Greek cultures, confronted a Roman army. The outcome of the battle seemed beyond doubt.\"\n",
       "}"
      ]
     },
     "execution_count": 19,
     "metadata": {},
     "output_type": "execute_result"
    }
   ],
   "source": [
    "import openai\n",
    "\n",
    "transcript = openai.Audio.transcribe(\n",
    "    \"whisper-1\", open(\"./files/chunks/chunk_0.mp3\", \"rb\")\n",
    ")\n",
    "\n",
    "print(transcript.text)\n",
    "\n",
    "\n"
   ]
  },
  {
   "cell_type": "code",
   "execution_count": null,
   "metadata": {},
   "outputs": [],
   "source": []
  }
 ],
 "metadata": {
  "kernelspec": {
   "display_name": "env",
   "language": "python",
   "name": "python3"
  },
  "language_info": {
   "codemirror_mode": {
    "name": "ipython",
    "version": 3
   },
   "file_extension": ".py",
   "mimetype": "text/x-python",
   "name": "python",
   "nbconvert_exporter": "python",
   "pygments_lexer": "ipython3",
   "version": "3.11.10"
  }
 },
 "nbformat": 4,
 "nbformat_minor": 2
}
