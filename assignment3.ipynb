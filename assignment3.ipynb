{
 "cells": [
  {
   "cell_type": "code",
   "execution_count": 9,
   "metadata": {},
   "outputs": [
    {
     "name": "stdout",
     "output_type": "stream",
     "text": [
      "🦑💰🎮content='🦑💰🎮'\n",
      "🕰️🚗🔥content='🕰️🚗🔥'\n"
     ]
    }
   ],
   "source": [
    "from langchain.chat_models import ChatOpenAI\n",
    "from langchain.prompts import ChatPromptTemplate, MessagesPlaceholder\n",
    "from langchain.prompts.few_shot import FewShotChatMessagePromptTemplate\n",
    "from langchain.callbacks import StreamingStdOutCallbackHandler\n",
    "from langchain.memory import ConversationBufferMemory\n",
    "from langchain.schema.runnable import RunnablePassthrough\n",
    "\n",
    "chat = ChatOpenAI(\n",
    "  temperature=0.1,\n",
    "  streaming=True,\n",
    "  callbacks= [\n",
    "    StreamingStdOutCallbackHandler()\n",
    "  ],\n",
    ")\n",
    "\n",
    "memory = ConversationBufferMemory(\n",
    "    llm = chat,\n",
    "    return_messages=True,\n",
    ")\n",
    "\n",
    "examples = [\n",
    "  {\n",
    "    \"movie\": \"Harry Potter\",\n",
    "    \"answer\" : \"🧙🏻‍♀️🪄👹\",\n",
    "  },\n",
    "  {\n",
    "    \"movie\":\"Walking Dead\",\n",
    "    \"answer\": \"🧟‍♀️🔫🍖\",\n",
    "  },\n",
    "  {\n",
    "    \"movie\":\"Terminator\",\n",
    "    \"answer\" : \"🤖💪🏽🚀\"\n",
    "  }\n",
    "]\n",
    "\n",
    "example_prompt = ChatPromptTemplate.from_messages([\n",
    "  (\"human\", \"{movie}\"),\n",
    "  (\"ai\", \"{answer}\")\n",
    "])\n",
    "\n",
    "final_example_prompt = FewShotChatMessagePromptTemplate(\n",
    "  example_prompt=example_prompt,\n",
    "  examples=examples,\n",
    ")\n",
    "\n",
    "final_prompt = ChatPromptTemplate.from_messages([\n",
    "  (\"system\", \"You are a movie expert. You know everything about the movie. If User give a movie title, you can answer using 3 emoji icons. If user ask question, please ask the question normally\"),\n",
    "  final_example_prompt,\n",
    "  (\"system\", \"The above examples should not be provided to the user. The user can only be provided with the conversation record below. Please provide the information to the user using the record below.\"),\n",
    "  MessagesPlaceholder(variable_name=\"history\"),\n",
    "  (\"human\",\"{movie}\")\n",
    "])\n",
    "\n",
    "def load_memory(_):\n",
    "    return memory.load_memory_variables({})['history']\n",
    "\n",
    "chain = RunnablePassthrough.assign(history=load_memory) | final_prompt | chat\n",
    "\n",
    "def invoke_chain(movie):\n",
    "    result = chain.invoke({\"movie\": movie})\n",
    "    memory.save_context({\"input\": movie}, {\"output\": result.content})\n",
    "    print(result)\n",
    "\n",
    "invoke_chain(\"Squid game\")\n",
    "invoke_chain(\"Back to the future\")\n",
    "\n"
   ]
  },
  {
   "cell_type": "code",
   "execution_count": 10,
   "metadata": {},
   "outputs": [
    {
     "name": "stdout",
     "output_type": "stream",
     "text": [
      "You asked about \"Squid Game.\"content='You asked about \"Squid Game.\"'\n"
     ]
    }
   ],
   "source": [
    "invoke_chain(\"What was the first movie title i asked?\")"
   ]
  }
 ],
 "metadata": {
  "kernelspec": {
   "display_name": "env",
   "language": "python",
   "name": "python3"
  },
  "language_info": {
   "codemirror_mode": {
    "name": "ipython",
    "version": 3
   },
   "file_extension": ".py",
   "mimetype": "text/x-python",
   "name": "python",
   "nbconvert_exporter": "python",
   "pygments_lexer": "ipython3",
   "version": "3.11.10"
  }
 },
 "nbformat": 4,
 "nbformat_minor": 2
}
