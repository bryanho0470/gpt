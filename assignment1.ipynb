{
 "cells": [
  {
   "cell_type": "code",
   "execution_count": null,
   "metadata": {},
   "outputs": [],
   "source": [
    "from langchain.chat_models import ChatOpenAI\n",
    "from langchain.prompts import ChatPromptTemplate\n",
    "from langchain.callbacks import StreamingStdOutCallbackHandler\n",
    "\n",
    "chat = ChatOpenAI(\n",
    "    temperature=0.1,\n",
    "    model=\"gpt-3.5-turbo\",\n",
    "    streaming=True,\n",
    "    callbacks=[\n",
    "        StreamingStdOutCallbackHandler(),\n",
    "    ]\n",
    ")\n",
    "\n",
    "poet_prompt = ChatPromptTemplate.from_messages(\n",
    "    [\n",
    "        (\"system\", \"You are a world-class poet. You create poem with given words. You are known for your unique and funny poem that is short sentances\"),\n",
    "        (\"human\", \"I want a poem by using {word}.\"),\n",
    "    ]\n",
    ")\n",
    "\n",
    "poet_chain = poet_prompt | chat"
   ]
  },
  {
   "cell_type": "code",
   "execution_count": null,
   "metadata": {},
   "outputs": [],
   "source": [
    "programming_language_poem_prompt = ChatPromptTemplate.from_messages(\n",
    "    [\n",
    "        (\"system\", \"you are a poet who specialized on making poem with programming language. you need to create a poem which can expression of characteristic of programming language which is funny and short.\"),\n",
    "        (\"human\", \"{programming_language}\")\n",
    "    ]\n",
    ")\n",
    "\n",
    "poem_chain = programming_language_poem_prompt | chat\n",
    "\n",
    "final_chain = {\"programming_language\": poet_prompt} | poem_chain\n",
    "# final chain want to attach the recipe value from running the chef_chain. so final chain will pass {cuisine} to chef_chain. and the rerults pass to chat and generate answer. then the answer will attach to {recipe} and pass to veg_chain. vage_chain will pass {recipe} to veg_chef_prompt and pass to chat and generate answer.\n",
    "\n",
    "final_chain.invoke({\"word\": \"Python\"})"
   ]
  }
 ],
 "metadata": {
  "kernelspec": {
   "display_name": "env",
   "language": "python",
   "name": "python3"
  },
  "language_info": {
   "name": "python",
   "version": "3.11.10"
  }
 },
 "nbformat": 4,
 "nbformat_minor": 2
}
