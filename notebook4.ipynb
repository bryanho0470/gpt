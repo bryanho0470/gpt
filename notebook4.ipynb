{
 "cells": [
  {
   "cell_type": "code",
   "execution_count": 1,
   "metadata": {},
   "outputs": [
    {
     "name": "stderr",
     "output_type": "stream",
     "text": [
      "/Users/bryan/Documents/GitHub/gpt/env/lib/python3.11/site-packages/tqdm/auto.py:21: TqdmWarning: IProgress not found. Please update jupyter and ipywidgets. See https://ipywidgets.readthedocs.io/en/stable/user_install.html\n",
      "  from .autonotebook import tqdm as notebook_tqdm\n"
     ]
    },
    {
     "data": {
      "text/plain": [
       "\"\\n\\nThis question has been asked by philosophers, theologians, and ordinary people for centuries. The answer to this question is subjective and depends on one's personal beliefs and values.\\n\\nSome people may believe that the meaning of life is to seek happiness, while others may believe that it is to serve a higher power or to fulfill a specific purpose. Some may believe that the meaning of life is to learn and grow, while others may believe that it is to love and be loved.\\n\\nUltimately, the meaning of life is something that each individual must discover for themselves. It is a personal journey that requires introspection, self-reflection, and a willingness to question and explore one's beliefs and values.\\n\\nOne thing that is certain is that the meaning of life is not something that can be easily defined or explained. It is a complex and multifaceted concept that is deeply rooted in our individual experiences and perspectives.\\n\\nIn the end, the meaning of life may be something that is never fully understood or explained. But that is part of what makes life so fascinating and worth living. The mystery and the unknown are what make life an adventure, and it is\""
      ]
     },
     "execution_count": 1,
     "metadata": {},
     "output_type": "execute_result"
    }
   ],
   "source": [
    "from langchain.llms import HuggingFaceHub\n",
    "from langchain.prompts import PromptTemplate\n",
    "\n",
    "prompt = PromptTemplate.from_template(\"[INST] What is the meaning of {word}? [/INST]\")\n",
    "\n",
    "llm = HuggingFaceHub(\n",
    "    repo_id=\"mistralai/Mistral-7B-Instruct-v0.3\",\n",
    "    model_kwargs={\n",
    "        \"max_new_tokens\": 250,\n",
    "    },\n",
    ")\n",
    "llm.client.api_url = \"https://api-inference.huggingface.co/models/mistralai/Mistral-7B-Instruct-v0.3\"\n",
    "\n",
    "chain = prompt | llm\n",
    "\n",
    "chain.invoke({\"word\": \"life\"})\n",
    "\n"
   ]
  }
 ],
 "metadata": {
  "kernelspec": {
   "display_name": "env",
   "language": "python",
   "name": "python3"
  },
  "language_info": {
   "codemirror_mode": {
    "name": "ipython",
    "version": 3
   },
   "file_extension": ".py",
   "mimetype": "text/x-python",
   "name": "python",
   "nbconvert_exporter": "python",
   "pygments_lexer": "ipython3",
   "version": "3.11.10"
  }
 },
 "nbformat": 4,
 "nbformat_minor": 2
}
