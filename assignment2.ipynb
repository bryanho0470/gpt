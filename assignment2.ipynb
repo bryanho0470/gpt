{
 "cells": [
  {
   "cell_type": "code",
   "execution_count": 4,
   "metadata": {},
   "outputs": [
    {
     "name": "stdout",
     "output_type": "stream",
     "text": [
      "Here is what i know :\n",
      "    Director: Hwang Dong-hyuk\n",
      "    Main Actors: Lee Jung-jae (as Seong Gi-hun), Park Hae-soo (as Cho Sang-woo), Wi Ha-joon (as Hwang Jun-ho), Jung Ho-yeon (as Kang Sae-byeok)\n",
      "    Budget: Approximately $21.4 million\n",
      "    Genre: Thriller, Drama\n",
      "    Short Synopsis: \"Squid Game\" is a South Korean survival drama series that follows a group of financially struggling individuals who are invited to participate in a mysterious and deadly competition. The players must compete in a series of children's games with deadly consequences for losers, all for the chance to win a massive cash prize. As the games become increasingly brutal and the players' desperation grows, they must navigate alliances, betrayals, and moral dilemmas in a fight for survival. The series explores themes of inequality, human nature, and the lengths people will go to for financial security."
     ]
    },
    {
     "data": {
      "text/plain": [
       "AIMessageChunk(content='Here is what i know :\\n    Director: Hwang Dong-hyuk\\n    Main Actors: Lee Jung-jae (as Seong Gi-hun), Park Hae-soo (as Cho Sang-woo), Wi Ha-joon (as Hwang Jun-ho), Jung Ho-yeon (as Kang Sae-byeok)\\n    Budget: Approximately $21.4 million\\n    Genre: Thriller, Drama\\n    Short Synopsis: \"Squid Game\" is a South Korean survival drama series that follows a group of financially struggling individuals who are invited to participate in a mysterious and deadly competition. The players must compete in a series of children\\'s games with deadly consequences for losers, all for the chance to win a massive cash prize. As the games become increasingly brutal and the players\\' desperation grows, they must navigate alliances, betrayals, and moral dilemmas in a fight for survival. The series explores themes of inequality, human nature, and the lengths people will go to for financial security.')"
      ]
     },
     "execution_count": 4,
     "metadata": {},
     "output_type": "execute_result"
    }
   ],
   "source": [
    "from langchain.chat_models import ChatOpenAI\n",
    "from langchain.prompts import ChatPromptTemplate\n",
    "from langchain.prompts.few_shot import FewShotChatMessagePromptTemplate\n",
    "from langchain.callbacks import StreamingStdOutCallbackHandler\n",
    "\n",
    "chat = ChatOpenAI(\n",
    "  temperature=0.1,\n",
    "  streaming=True,\n",
    "  callbacks= [\n",
    "    StreamingStdOutCallbackHandler()\n",
    "  ],\n",
    ")\n",
    "\n",
    "examples = [\n",
    "  {\n",
    "    \"movie\": \"Harry Potter\",\n",
    "    \"answer\" : \"\"\"\n",
    "    Here is what i know :\n",
    "    Director : Chris Columbus \n",
    "    Main Actors: Daniel Radcliffe(as Harry Potter), Rupert Grint (as Ron Weasley), Emma Watson (as Hermione Granger )\n",
    "    Budget: Approximately $125 million\n",
    "    Profit : Over $1.026 billion worldwide\n",
    "    Genre: Fantasy\n",
    "    Short Synopsis: The film follows 11-year-old Harry Potter, an orphan living with his unkind aunt and uncle. On his birthday, he learns he’s a wizard and is invited to attend Hogwarts School of Witchcraft and Wizardry. There, he discovers his past, makes new friends, and uncovers a secret about a magical artifact hidden within the school. \n",
    "    \"\"\",\n",
    "  },\n",
    "  {\n",
    "    \"movie\":\"Walking Dead\",\n",
    "    \"answer\": \"\"\"\n",
    "    Here is what i know : \n",
    "    Director: Frank Darabont (developer and director of the pilot episode) \n",
    "    Main Actors: Andrew Lincoln (as Rick Grimes), Norman Reedus (as Daryl Dixon), Melissa McBride (as Carol Peletier), Lauren Cohan (as Maggie Greene), Danai Gurira (as Michonne) \n",
    "    Budget: Approximately $2.5-$3 million per episode in early seasons; later seasons saw increased budgets  \n",
    "    Profit: The series became AMC-s flagship show, with peak viewership during seasons 3 to 7 attracting 10-17 million viewers per episode \n",
    "    Genre: Post-apocalyptic horror drama \n",
    "    Short Synopsis: “The Walking Dead” follows a group of survivors, led initially by sheriff's deputy Rick Grimes, navigating a world overrun by zombies, referred to as “walkers.” Facing constant threats from both the undead and other human survivors, they struggle to find safety and maintain their humanity in a collapsing society.  \n",
    "    \"\"\",\n",
    "  },\n",
    "  {\n",
    "    \"movie\":\"Terminator\",\n",
    "    \"answer\" : \"\"\"\n",
    "    Here is what I know:\n",
    "    Director: James Cameron \n",
    "    Main Actors:Arnold Schwarzenegger (as the Terminator) ,Linda Hamilton (as Sarah Connor) ,Michael Biehn (as Kyle Reese) \n",
    "    Budget: Approximately $6.4 million  \n",
    "    Box Office Gross: Approximately $78.3 million worldwide\n",
    "    Genre: Science Fiction, Action \n",
    "    Short Synopsis: In 2029, an artificial intelligence defense network called Skynet becomes self-aware and initiates a nuclear holocaust to exterminate humanity. To prevent the birth of John Connor, the future leader of the human resistance, Skynet sends a cyborg assassin known as the Terminator back to 1984 to kill John’s mother, Sarah Connor. In response, the resistance sends soldier Kyle Reese to protect her. As the relentless Terminator pursues them, Sarah and Kyle must fight for survival to ensure the future of mankind.  \n",
    "    \"\"\"\n",
    "  }\n",
    "]\n",
    "\n",
    "example_prompt = ChatPromptTemplate.from_messages([\n",
    "  (\"human\", \"Tell me about {movie}?\"),\n",
    "  (\"ai\", \"{answer}\")\n",
    "])\n",
    "\n",
    "example_prompt = FewShotChatMessagePromptTemplate(\n",
    "  example_prompt=example_prompt,\n",
    "  examples=examples,\n",
    ")\n",
    "\n",
    "final_prompt = ChatPromptTemplate.from_messages([\n",
    "  (\"system\", \"You are a movie expert\"),\n",
    "  example_prompt,\n",
    "  (\"human\",\"Tell me about {movie}?\"),\n",
    "])\n",
    "\n",
    "chain = final_prompt | chat\n",
    "\n",
    "chain.invoke({\n",
    "  \"movie\" : \"Squid game\"\n",
    "})"
   ]
  }
 ],
 "metadata": {
  "kernelspec": {
   "display_name": "env",
   "language": "python",
   "name": "python3"
  },
  "language_info": {
   "codemirror_mode": {
    "name": "ipython",
    "version": 3
   },
   "file_extension": ".py",
   "mimetype": "text/x-python",
   "name": "python",
   "nbconvert_exporter": "python",
   "pygments_lexer": "ipython3",
   "version": "3.11.10"
  }
 },
 "nbformat": 4,
 "nbformat_minor": 2
}
