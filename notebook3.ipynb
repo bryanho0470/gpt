{
 "cells": [
  {
   "cell_type": "code",
   "execution_count": 5,
   "metadata": {},
   "outputs": [
    {
     "name": "stderr",
     "output_type": "stream",
     "text": [
      "Created a chunk of size 1384, which is longer than the specified 600\n",
      "Created a chunk of size 1450, which is longer than the specified 600\n",
      "Created a chunk of size 1485, which is longer than the specified 600\n",
      "Created a chunk of size 1364, which is longer than the specified 600\n",
      "Created a chunk of size 1243, which is longer than the specified 600\n",
      "Created a chunk of size 1317, which is longer than the specified 600\n",
      "Created a chunk of size 1434, which is longer than the specified 600\n",
      "Created a chunk of size 1367, which is longer than the specified 600\n",
      "Created a chunk of size 1448, which is longer than the specified 600\n",
      "Created a chunk of size 1391, which is longer than the specified 600\n",
      "Created a chunk of size 1412, which is longer than the specified 600\n",
      "Created a chunk of size 1406, which is longer than the specified 600\n",
      "Created a chunk of size 1482, which is longer than the specified 600\n",
      "Created a chunk of size 1322, which is longer than the specified 600\n",
      "Created a chunk of size 1350, which is longer than the specified 600\n",
      "Created a chunk of size 1303, which is longer than the specified 600\n",
      "Created a chunk of size 1420, which is longer than the specified 600\n",
      "Created a chunk of size 1358, which is longer than the specified 600\n",
      "Created a chunk of size 1466, which is longer than the specified 600\n",
      "Created a chunk of size 1431, which is longer than the specified 600\n",
      "Created a chunk of size 1337, which is longer than the specified 600\n",
      "Created a chunk of size 1261, which is longer than the specified 600\n",
      "Created a chunk of size 1464, which is longer than the specified 600\n",
      "Created a chunk of size 1482, which is longer than the specified 600\n",
      "Created a chunk of size 1490, which is longer than the specified 600\n",
      "Created a chunk of size 1464, which is longer than the specified 600\n",
      "Created a chunk of size 1403, which is longer than the specified 600\n",
      "Created a chunk of size 1461, which is longer than the specified 600\n",
      "Created a chunk of size 1456, which is longer than the specified 600\n"
     ]
    },
    {
     "data": {
      "text/plain": [
       "AIMessage(content='An allotment is a plot of land made available for individual, non-commercial gardening for growing food plants, forming a kitchen garden away from the residence of the user.')"
      ]
     },
     "execution_count": 5,
     "metadata": {},
     "output_type": "execute_result"
    }
   ],
   "source": [
    "from langchain.chat_models import ChatOpenAI\n",
    "from langchain.document_loaders import UnstructuredFileLoader\n",
    "from langchain.text_splitter import CharacterTextSplitter\n",
    "from langchain.vectorstores import FAISS\n",
    "from langchain.embeddings import OpenAIEmbeddings, CacheBackedEmbeddings\n",
    "from langchain.storage import LocalFileStore\n",
    "from langchain.prompts import ChatPromptTemplate\n",
    "from langchain.schema.runnable import RunnablePassthrough\n",
    "\n",
    "\n",
    "llm = ChatOpenAI(\n",
    "    temperature=0.1\n",
    ")\n",
    "\n",
    "cache_dir = LocalFileStore(\"./.cache/\")\n",
    "\n",
    "splitter = CharacterTextSplitter(\n",
    "    separator=\"\\n\",\n",
    "    chunk_size=600,\n",
    "    chunk_overlap=100,\n",
    ")\n",
    "\n",
    "loader = UnstructuredFileLoader(\"./files/allotment.txt\")\n",
    "\n",
    "docs = loader.load_and_split(text_splitter=splitter)\n",
    "\n",
    "embeddings = OpenAIEmbeddings()\n",
    "\n",
    "cached_embeddings = CacheBackedEmbeddings.from_bytes_store(\n",
    "    embeddings, cache_dir\n",
    ")\n",
    "\n",
    "vectorstore = FAISS.from_documents(docs, cached_embeddings)\n",
    "\n",
    "retriever = vectorstore.as_retriever()\n",
    "\n",
    "prompt = ChatPromptTemplate.from_messages(\n",
    "    [\n",
    "        (\"system\", \"You are a helpful assistant. Answer questions using only the following context. If you don't know the answer just say you don't know. don't make it up : \\n\\n {context}\"),\n",
    "        (\"human\", \"{question}\"),\n",
    "    ]\n",
    ")\n",
    "\n",
    "chain = {\"context\" : retriever, \"question\" : RunnablePassthrough()} | prompt | llm\n",
    "\n",
    "chain.invoke(\"What is the allotment meaning?\")\n",
    "\n"
   ]
  },
  {
   "cell_type": "code",
   "execution_count": 6,
   "metadata": {},
   "outputs": [
    {
     "data": {
      "text/plain": [
       "[Document(page_content='Allotment (gardening)\\rAllotments in Germany\\rAn\\xa0allotment\\xa0(British English),[1]\\xa0is a plot of land made available for individual, non-commercial gardening for growing food plants, so forming a\\xa0kitchen garden\\xa0away from the residence of the user. Such plots are formed by subdividing a piece of land into a few or up to several hundred parcels that are assigned to individuals or families, contrary to a\\xa0community garden\\xa0where the entire area is tended collectively by a group of people. [2]\\xa0The term \"victory garden\" is also still sometimes used, especially when a garden dates back to the\\xa0First\\xa0or\\xa0Second World War. The individual size of a parcel typically suits the needs of a family, and often the plots include a shed for tools and shelter, and sometimes a hut for seasonal or weekend accommodation. The individual gardeners are usually organised in an allotment association, which leases or is granted the land from an owner who may be a public, private or\\xa0ecclesiastical\\xa0entity, and who usually stipulates that it be only used for gardening (i.e., growing vegetables, fruits and flowers), but not for permanent residential purposes (this is usually also required by\\xa0zoning laws). The gardeners have to pay a small membership fee to the association and have to abide by the corresponding constitution and by-laws. However, the membership entitles them to certain democratic rights.', metadata={'source': './files/allotment.txt'}),\n",
       " Document(page_content='[47][48]\\rFollowing these Inclosure Acts and the Commons Act 1876,[49]\\xa0the land available for personal cultivation by the poor was greatly diminished. To fulfill the need for land, allotment legislation was enacted. The law was first fully codified in the Small Holdings and Allotments Act 1908,[50]\\xa0then modified by the Allotments Act 1922[51]\\xa0and subsequent Allotments Acts up until the\\xa0Allotments Act 1950. Under the Acts, a local authority is required to maintain an \"adequate provision\" of land, usually a large allotment field which can then be subdivided into allotment gardens for individual residents at a low rent. Allotment sizes are often quoted in square rods, although the use of the rod has been illegal for trade purposes since 1965. [52]\\xa0The rent is set at what a person \"may reasonably be expected to pay\" (1950); in 1997 the average rent for a ten\\xa0square rods, or\\xa01⁄16\\xa0acre (250\\xa0m2) plot was £22 a year. In February 2012 the UK\\'s first\\xa0Green-controlled council,\\xa0Brighton and Hove, caused controversy when they stated their intention to raise the rent for a standard 250\\xa0m2\\xa0plot to £110 per year, with many people suggesting that this was contrary to the environmental agenda on which they were elected. Each plot cannot exceed forty square rods, i.e. 1⁄4\\xa0acre (1,000\\xa0m2) and must be used for the production of fruit or vegetables for consumption by the plot-holder and their family (1922), or of flowers for use by the plot-holder and their family.', metadata={'source': './files/allotment.txt'}),\n",
       " Document(page_content='[9]\\rToday, most allotment gardens are on land owned by the municipality, which rents the land to an allotment association. The association in turn gives each member a plot of land. To preserve allotment gardens as something that is available for all kinds of people, the membership charge is set significantly below what a market price would be. Since allotments are often placed on attractive plots of land, this has led to huge waiting lists for membership in many allotment associations. [citation needed]\\rAlthough the main purpose of the allotment is gardening, most allotment gardens have a pavilion built in them. These pavilions can range in size from an old rebuilt railway car to a small summer house. Many people grow so fond of their allotment gardens that they live there the entire summer. In most cases, however, members are not allowed to live there the entire year. [citation needed]\\rFinland\\r[edit]\\rAllotment gardens in\\xa0Vallila, only 2–3 km from central\\xa0Helsinki. Each allotment contains a summer-cottage-type building. The Federation of Finnish Allotment Gardens is a non-profit organization that supports allotment gardeners and connects them to allotments and each other. The first allotment garden was established 1916 in\\xa0Tampere,[10]\\xa0and today there are about 30 allotment associations all around Finland made up of roughly 3700 allotmenteers.', metadata={'source': './files/allotment.txt'}),\n",
       " Document(page_content='The exact size and quality of the plots is not defined. The council has a duty to provide sufficient allotments to meet demand. The total income from allotments was £2.61 million and total expenditure was £8.44 million in 1997. [53]\\rThe total number of plots has varied greatly over time. In the 19th and early 20th century, the allotment system supplied much of the fresh vegetables eaten by the poor. [54]\\xa0In 1873 there were 244,268 plots and by 1918 there were around 1,500,000 plots. While numbers fell in the 1920s and 1930s, following an increase to 1,400,000 during World War II there were still around 1,117,000 plots in 1948. This number has been in decline since then, falling to 600,000 by the late 1960s and 300,000 by 2009. The Thorpe Inquiry of 1969 investigated the decline and put the causes as the decline in available land, increasing prosperity and the growth of other leisure activities. [55]\\rThe popular 1970s British television programme\\xa0The Good Life, about a couple seeking to \"escape the rat race\" by becoming \"totally self-sufficient\" in a suburban setting, utilised an allotment to achieve their aims. [citation needed]\\xa0Increased interest in \"green\" issues from the 1970s revived interest in allotment gardening, whilst the National Society of Allotment and Leisure Gardeners (NSALG), and the Scottish Allotments and Gardens Society (SAGS) in Scotland, continued to campaign on behalf of allotment users.', metadata={'source': './files/allotment.txt'})]"
      ]
     },
     "execution_count": 6,
     "metadata": {},
     "output_type": "execute_result"
    }
   ],
   "source": [
    "vectorstore.similarity_search(\"what is the meaning of allotment\")"
   ]
  }
 ],
 "metadata": {
  "kernelspec": {
   "display_name": "env",
   "language": "python",
   "name": "python3"
  },
  "language_info": {
   "codemirror_mode": {
    "name": "ipython",
    "version": 3
   },
   "file_extension": ".py",
   "mimetype": "text/x-python",
   "name": "python",
   "nbconvert_exporter": "python",
   "pygments_lexer": "ipython3",
   "version": "3.11.10"
  }
 },
 "nbformat": 4,
 "nbformat_minor": 2
}
