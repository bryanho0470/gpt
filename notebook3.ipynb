{
 "cells": [
  {
   "cell_type": "code",
   "execution_count": null,
   "metadata": {},
   "outputs": [
    {
     "data": {
      "text/plain": [
       "[Document(page_content='Leisure • Online platforms for collaborative consumption • P-Patch • Simple living • Urban agriculture • Subsistence agriculture • Permaculture • Smallholding • Peach wall References [edit]\\n\\n1. ^ The term \"allotment\" is not used in the United States to refer to these garden plots, as shown by the entries in the American Heritage Dictionary Archived 2012-08-13 at the Wayback Machine and the Cambridge American English Dictionary Archived 2013-05-27 at the Wayback Machine.', metadata={'source': './files/allotment.pdf'}),\n",
       " Document(page_content='2. ^ MacNair, Emily (2002). \"The Garden City Handbook: How to Create and Protect Community Gardens in Greater Victoria\" (PDF). Polis Project on Ecological Governance. University of Victoria.\\n\\n3. ^ Drescher, A. W. (2001), \"The German Allotment Gardens — a Model for Poverty Alleviation and Food Security in Southern African Cities?\", Proceedings of the Sub-Regional Expert Meeting on Urban Horticulture, Stellenbosch, South Africa, January 15–19, 2001, FAO/University of Stellenbosch, archived from the original on 2009-04-14, retrieved 2009-03-13', metadata={'source': './files/allotment.pdf'}),\n",
       " Document(page_content='4. ^ Drescher, A. W., Holmer, R. J. and D. L. Iaquinta 2006. \"Urban Homegardens and Allotment Gardens for Sustainable Livelihoods: Management Strategies and Institutional Environments\". In: Kumar, B. M. and Nair, P. K. (Eds) 2006. Tropical Homegardens: A Time-Tested Example of Agroforestry. Series: Advances in Agroforestry 3, Springer, New York.\\n\\n5. ^ \"What do we encourage?\". Office International du Coin de Terre et des Jardins Familiaux. Archived from the original on 14 January 2014. Retrieved 13 January 2014.', metadata={'source': './files/allotment.pdf'}),\n",
       " Document(page_content='6. ^ Großes Interesse am Wohnen im Gartenhaus Archived 2017-04-09 at the Wayback Machine orf.at,\\n\\n7. ^ Wiener Kleingarten Messe – Die Messe für Bauen, Gestalten und Wohlfühlen in Haus und Garten Archived 2018-05-09 at the Wayback Machine evotion.at, Vienna Allotment Fair\\n\\n8. ^ \"Canadian Community Gardening\". www.cityfarmer.org. Retrieved 2021-06-12. 9. ^ Salmonsens Konversationsleksikon, 2. udgave, A/S J. H. Schultz Forlagsboghandel, Copenhagen 1915-1930.\\n\\n10. ^ \"KOSKESTA VOIMAA - ARKI - AIKAKAUSI 1918-1940 -', metadata={'source': './files/allotment.pdf'}),\n",
       " Document(page_content='10. ^ \"KOSKESTA VOIMAA - ARKI - AIKAKAUSI 1918-1940 -\\n\\nSIIRTOLAPUUTARHALIIKE\". www15.uta.fi. Archived from the original on 2008- 06-08. Retrieved 2017-04-17.\\n\\n11. ^ \"The Federation of Finnish Allotment Gardens - Suomen Siirtolapuutarhaliitto ry\". www.siirtolapuutarhaliitto.fi. Archived from the original on 2017-04-18. Retrieved 2017-04-17.\\n\\n12. ^ Crouch, D. (2000). \"Reinventing Allotments for the Twenty-First Century: The UK Experience\". Acta Horticulturae (523): 135– 142. doi:10.17660/ActaHortic.2000.523.18. ISSN 0567-7572.', metadata={'source': './files/allotment.pdf'}),\n",
       " Document(page_content='13. ^ Sidblad, S. (2000). \"Swedish Perspectives of Allotment and Community Gardening\". Acta Horticulturae (523): 151– 160. doi:10.17660/ActaHortic.2000.523.20. ISSN 0567-7572.\\n\\n14. ^ Haavie, S. 2001, Parsellhagedyrking i Oslo Archived 2006-10-18 at the Wayback Machine — en statusoversikt. Rapport/Osloforskning 1/2001 (ISBN 82-8053-000-2)\\n\\n15. ^ Jensen, N. 1996. Allotment Guide Archived 2006-08-29 at the Wayback Machine — Copenhagen & Surroundings /Kolonihave Guide Kobenhavn & Omegn, Copenhagen, Denmark.', metadata={'source': './files/allotment.pdf'}),\n",
       " Document(page_content='16. ^ Rent-a-Plot: Germany\\'s Garden Ghettos. Archived 2007-02-23 at the Wayback Machine Der Spiegel, 2006-04-11. Accessed 2006-03-17.\\n\\n17. ^ Gröning, G., Wolschke-Bulmahn, J., 1995. Von Ackermann bis Ziegelhütte, Studien zur Frankfurter Geschichte, Band 36. Frankfurt am Main, Germany. 18. ^ \"The History of Berlin\\'s Green Space: Allotment Gardens\". Senate Department for Urban Development and the Environment. Archived from the original on 5 August 2012. Retrieved 24 March 2012.', metadata={'source': './files/allotment.pdf'}),\n",
       " Document(page_content='19. ^ \"Try your hand at farming\". timesofmalta.com. Allied Newspapers. 20 April 2011. Archived from the original on 9 January 2017. Retrieved 9 May 2018. 20. ^ \"Malta\\'s blossoming green fingers\". timesofmalta.com. Allied Newspapers. 27 May 2012. Archived from the original on 9 January 2017. Retrieved 9 May 2018.\\n\\n21. ^ \"\\'Positive\\' allotment project is dumped by government\". timesofmalta.com. Allied Newspapers. 25 June 2014. Archived from the original on 9 January 2017. Retrieved 9 May 2018.', metadata={'source': './files/allotment.pdf'}),\n",
       " Document(page_content='22. ^ \"Expression of Interest among the General Public for the Use of Allotments at Abbatija Tad-Dejr Garden, Rabat\". Heritage Malta. Retrieved 22 January 2020.\\n\\n23. ^ \"Heritage Malta offers community garden to the public in Rabat\". The Malta Chamber of Commerce. Retrieved 22 January 2020.\\n\\n24. ^ \"Heritage Malta offers community garden to the public in Rabat\". Newsbook. 27 September 2019. Retrieved 22 January 2020.', metadata={'source': './files/allotment.pdf'}),\n",
       " Document(page_content='25. ^ Holmer, R. J.; Clavejo, M. T.; Dongus, S.; Drescher, A. (2003). \"Allotment Gardens for Philippine Cities\". Urban Agriculture Magazine. 11: 29–31. Archived from the original on 2007-09-27.\\n\\n26. ^ Health Promoting Schools, Ecological Sanitation and School Gardens in Mindanao Archived 2006-10-10 at the Wayback Machine\\n\\n27. ^ Gerold, J.; Drescher, A. W.; Holmer, R. J. (2005). \"Kleingärten zur Armutsminderung – Schrebergärten in Cagayan de Oro\". Südostasien. 21 (4): 76–77. ISSN 1434-7067.\\n\\n28. ^ Bregnhøj, H.; Eilersen, A. M.; von Krauss, M. K.; Backlund, A.', metadata={'source': './files/allotment.pdf'}),\n",
       " Document(page_content='(2003). \"Experiences with Ecosan in Danish Allotment Gardens and in Development Projects\" (PDF). Proceedings to 2nd International Symposium on Ecological Sanitation \"Ecosan – Closing the Loop\", April 7 to 11, 2003 Lübeck, Germany.[permanent dead link]\\n\\n29. ^ \"Najstarszy Ogród Działkowy w Polsce - Historia\\n\\nOgrodu\". kapielesloneczne.pl.tl. Archived from the original on 5 October 2017. Retrieved 9 May 2018.', metadata={'source': './files/allotment.pdf'}),\n",
       " Document(page_content='30. ^ Barthel, Stephan; Parker, John; Ernstson, Henrik (2015-05-01). \"Food and Green Space in Cities: A Resilience Lens on Gardens and Urban Environmental Movements\". Urban Studies. 52 (7): 1321– 1338. Bibcode:2015UrbSt..52.1321B. doi:10.1177/0042098012472744. ISSN 00 42-0980. S2CID 154985303.', metadata={'source': './files/allotment.pdf'}),\n",
       " Document(page_content='31. ^ Villace, B., L. Lebajos, L. Aceituno-Mata, R. Morales, and M. Pardo de Santayana. 2014. La naturaleza cercana. Huertos urbanos colectivos madrileños. Ambienta 107:54– 73 [online] Available from: https://www.researchgate.net/publication/264554421_La_naturaleza_cerca na_Huertos_urbanos_colectivos_madrilenos\\n\\n32. ^ Klepacki, Piotr; Kujawska, Monika (March 2018). \"Urban Allotment Gardens in Poland: Implications for Botanical and Landscape Diversity\". Journal of Ethnobiology. 38 (1): 123–137. doi:10.2993/0278-0771-38.1.123. ISSN 0278- 0771.', metadata={'source': './files/allotment.pdf'}),\n",
       " Document(page_content='33. ^ Jump up to:a b c \"Grow Your Own Beetroot: Poland\\'s Allotment Culture\". Culture.pl. Retrieved 2021-04-25.\\n\\n34. ^ Jump up to:a b Klepacki, Piotr; Kujawska, Monika (2018-03-01). \"Urban Allotment Gardens in Poland: Implications for Botanical and Landscape Diversity\". Journal of Ethnobiology. 38 (1): 123. doi:10.2993/0278-0771- 38.1.123. ISSN 0278-0771.', metadata={'source': './files/allotment.pdf'}),\n",
       " Document(page_content='35. ^ Jump up to:a b c Bellows, Anne C. (October 2004). \"One Hundred Years of Allotment Gardens in Poland1\". Food and Foodways. 12 (4): 247– 276. doi:10.1080/07409710490893793. ISSN 0740-9710. S2CID 153333812. 36. ^ Pawlikowska-Piechotka, Anna (2011). Active recreation space \\'for all\\' : family\\n\\ngardens in Poland. OCLC 998801617.\\n\\n37. ^ \"USTAWA z dnia 13 grudnia 2013 r. o rodzinnych ogrodach działkowych - Tekst pierwotny - Baza aktów prawnych - INFOR.pl - portal księgowych\". www.infor.pl. Retrieved 2021-04-25.', metadata={'source': './files/allotment.pdf'}),\n",
       " Document(page_content='38. ^ Gorczyca, M., 2013. Stan rozwoju pracowniczych ogródków działkowych, Wiadomości Statystyczne 12:80–85\\n\\n39. ^ Szczęsny, M., and K. Kimic. 2012. Możliwości adaptacji terenów ogrodów działkowych na obiekty ogólnodostępne na przykładzie Rodzinnego Ogrodu Działkowego przy Kanale Gocławskim w Warszawie. Czasopismo Techniczne. Architektura. 109:179–185.\\n\\n40. ^ \"Sítio da Câmara Municipal de Lisboa: Parques Hortícolas Municipais\". www.cm-lisboa.pt. Retrieved 2019-08-23. 41. ^ \"Sítio da Câmara Municipal de Lisboa: Hortas urbanas - candidatura\". www.cm-lisboa.pt. Retrieved 2019-08-23.', metadata={'source': './files/allotment.pdf'}),\n",
       " Document(page_content='42. ^ Abkhazia: where Stalin’s ghost holds sway Archived 2007-09-18 at the Wayback Machine\\n\\n43. ^ Kolonilotter. \"Kolonilotter\". www.lansstyrelsen.se (in Swedish). Archived from the original on 2017-09-14. Retrieved 2017-09-14.', metadata={'source': './files/allotment.pdf'}),\n",
       " Document(page_content='44. ^ Lindhagen, A., 1916. Koloniträdgårdar och planterade gårdar, Stockholm. 45. ^ Conan, M. 1999, From Vernacular Gardens to a Social Anthropology of Gardening: In: Conan, M. (Ed) Perspectives on Garden Histories. Series Dumbarton Oaks Colloquium on the History of Landscape Architecture (Vol 21): 181-204 \"Archived copy\" (PDF). Archived from the original (PDF) on 2007-02-07. Retrieved 2007-03-21.', metadata={'source': './files/allotment.pdf'}),\n",
       " Document(page_content='46. ^ Per Gustafsson, Lena Ignestam and Christel Lundberg, 2000. The return of Lenin. A film made based on (the true) story about Lenin\\'s visit in Stockholm 1917, and his relationship to allotment gardens. \"Archived copy\". Archived from the original on 2006-12-09. Retrieved 2007-03-23.\\n\\n47. ^ Savill, Richard (10 March 2009). \"England\\'s oldest allotments celebrate 200 years\". The Daily Telegraph. Archived from the original on 24 December 2016. Retrieved 23 December 2016.', metadata={'source': './files/allotment.pdf'}),\n",
       " Document(page_content='48. ^ Baggs, A.P.; Freeman, Jane; Stevenson, Janet H, eds. (1991). \"Victoria County History: Wiltshire: Vol 14 pp194-204 – Parishes: Great Somerford\". British History Online. University of London. Archived from the original on 28 July 2017. Retrieved 23 December 2016.\\n\\n49. ^ Commons Act 1876 50. ^ Small Holdings and Allotments Act 1908 51. ^ Allotments Act 1922 52. ^ Waterford, Douglas (2015-02-21). 21st century homestead : urban agriculture. Lulu.com. ISBN 9781312936515. OCLC 936340204.', metadata={'source': './files/allotment.pdf'}),\n",
       " Document(page_content='53. ^ \"House of Commons - Environment, Transport and Regional Affairs - Minutes of Evidence\". publications.parliament.uk. Retrieved 2019-09-04.\\n\\n54. ^ Martin, Alex (15 May 2014). The Novice Gardener\\'s Guide to Allotments. Lulu Press.\\n\\n55. ^ Smithers, Rebecca (19 February 2009). \"Dig for recovery: allotments boom as thousands go to ground in recession\". The Guardian. Archived from the original on 23 February 2014. Retrieved 10 February 2014.', metadata={'source': './files/allotment.pdf'}),\n",
       " Document(page_content='56. ^ Jump up to:a b Vidal, John. \"Coming up roses? Not any more as UK gardeners turn to vegetables Archived 2016-12-24 at the Wayback Machine\", 22 March 2008, The Guardian. Accessed on 22 March 2008. Archived on 22 March 2008.\\n\\n57. ^ A lot to lose: London\\'s disappearing allotments. Archived 2007-09-30 at the Wayback Machine\\n\\n58. ^ Hanson, Michele (13 February 2007). \"Michele Hanson doubts the validity of the \\'Green Olympics\\'?\". The Guardian. Archived from the original on 26 March 2016. Retrieved 9 May 2018.', metadata={'source': './files/allotment.pdf'}),\n",
       " Document(page_content='59. ^ Womack, Sarah. \"Developers forced to set up new allotments\", 22 March 2008, The Daily Telegraph. Accessed on 22 March 2008. on 22 March 2008.\\n\\n60. ^ Early, Catherine (26 March 2008). \"Urban Jungle\". The\\n\\nGuardian. Archived from the original on 13 January 2014. Retrieved 13 January 2014.\\n\\n61. ^ Cox, Elizabeth (2023-12-12). \"Leaks and pees: How women allotment gardeners manage bodily mess and the remains of early loss\". The Sociological Review Magazine. doi:10.51428/tsr.tour5403.\\n\\nFurther reading [edit]', metadata={'source': './files/allotment.pdf'}),\n",
       " Document(page_content='Further reading [edit]\\n\\nThe Allotment: Its Landscape and Culture, David Crouch and Colin Ward Paperback 314 pages (June 1, 1997), Publisher: Five Leaves Publications ISBN 0-907123-91-0\\n\\nThe Allotment Handbook, Sophie Andrews, \"A guide to promoting and protecting your allotment site.\" Ecologic Books, [1]\\n\\nThe Art of Allotments, David Crouch, Publisher: Five Leaves Publications [2] • The Allotment Chronicles: A Social History of Allotment Gardening, Steve Poole, Publisher: Silver Link Publishing, ISBN 1-85794-268-X', metadata={'source': './files/allotment.pdf'}),\n",
       " Document(page_content='Building Food Secure Neighbourhoods: the Role of Allotment Gardens, Robert J. Holmer, Axel W. Drescher: Urban Agriculture Magazine (2005), No. 15, p. 19-20 [3]\\n\\nCox, E. (2023, December 12). Leaks and pees: How women allotment gardeners manage bodily mess and the remains of early loss [Online]. The Sociological Review Magazine.', metadata={'source': './files/allotment.pdf'})]"
      ]
     },
     "execution_count": 2,
     "metadata": {},
     "output_type": "execute_result"
    }
   ],
   "source": [
    "from langchain.chat_models import ChatOpenAI\n",
    "from langchain.document_loaders import UnstructuredFileLoader\n",
    "from langchain.text_splitter import CharacterTextSplitter\n",
    "\n",
    "splitter = CharacterTextSplitter(\n",
    "    separators=\"\\n\",\n",
    "    chunk_size=600,\n",
    "    chunk_overlap=60,\n",
    "    length_function=len,\n",
    "    \n",
    ")\n",
    "\n",
    "loader = UnstructuredFileLoader(\"./files/allotment.pdf\")\n",
    "\n",
    "loader.load_and_split(text_splitter=splitter)"
   ]
  }
 ],
 "metadata": {
  "kernelspec": {
   "display_name": "env",
   "language": "python",
   "name": "python3"
  },
  "language_info": {
   "codemirror_mode": {
    "name": "ipython",
    "version": 3
   },
   "file_extension": ".py",
   "mimetype": "text/x-python",
   "name": "python",
   "nbconvert_exporter": "python",
   "pygments_lexer": "ipython3",
   "version": "3.11.10"
  }
 },
 "nbformat": 4,
 "nbformat_minor": 2
}
