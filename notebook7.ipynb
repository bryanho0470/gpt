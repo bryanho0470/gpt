{
 "cells": [
  {
   "cell_type": "code",
   "execution_count": 1,
   "metadata": {},
   "outputs": [
    {
     "name": "stdout",
     "output_type": "stream",
     "text": [
      "\n",
      "\n",
      "\u001b[1m> Entering new AgentExecutor chain...\u001b[0m\n",
      "\u001b[32;1m\u001b[1;3m\n",
      "Invoking: `StockMarketSymbolSearchTool` with `{'query': 'Stock Market Symbol for Rigetti Computing Inc'}`\n",
      "\n",
      "\n",
      "\u001b[0m\u001b[36;1m\u001b[1;3mDiscover real-time Rigetti Computing, Inc. Common Stock (RGTI) stock prices, quotes, historical data, news, and Insights for informed trading and investment decisions. Stay ahead with Nasdaq. Over the last year, Rigetti Computing, Inc.'s stock price has increased by 522.49%. Rigetti Computing, Inc. is currently approximately $11.03 per share. What is Rigetti Computing, Inc.'s 2025 ... 5 days ago · Find all our analysis, stock picks and recommendations on the stock market. And much more: Today on Wall Street, the Weekly Market Update... About RGTI. Rigetti Computing, Inc., through its subsidiaries, builds quantum computers and the superconducting quantum processors. The company offers cloud in a form of quantum processing unit, such as 9-qubit chip and Ankaa-2 system under the Novera brand name; and sells access to its quantum computers through quantum computing as a service. Track RIGETTI COMPUTING, INC (RGTI) price, historical values, financial information, price forecast, and insights to empower your investing journey | MSN Money\u001b[0m\u001b[32;1m\u001b[1;3mThe stock market symbol for Rigetti Computing Inc is RGTI. \n",
      "\n",
      "As of now, Rigetti Computing Inc's stock price is approximately $11.03 per share, and over the last year, the stock price has increased by 522.49%. \n",
      "\n",
      "To analyze if Rigetti Computing Inc is a potential good investment, we can consider factors such as the company's financial performance, growth prospects, market trends, and competition in the quantum computing industry. It's important to conduct a thorough analysis and consider consulting with a financial advisor before making any investment decisions.\u001b[0m\n",
      "\n",
      "\u001b[1m> Finished chain.\u001b[0m\n"
     ]
    },
    {
     "data": {
      "text/plain": [
       "{'input': \"Give me information on Rigetti Computing Inc's stock and help me analyze if it's a potential good investment. Also tell me what symbol does the stock have.\",\n",
       " 'output': \"The stock market symbol for Rigetti Computing Inc is RGTI. \\n\\nAs of now, Rigetti Computing Inc's stock price is approximately $11.03 per share, and over the last year, the stock price has increased by 522.49%. \\n\\nTo analyze if Rigetti Computing Inc is a potential good investment, we can consider factors such as the company's financial performance, growth prospects, market trends, and competition in the quantum computing industry. It's important to conduct a thorough analysis and consider consulting with a financial advisor before making any investment decisions.\"}"
      ]
     },
     "execution_count": 1,
     "metadata": {},
     "output_type": "execute_result"
    }
   ],
   "source": [
    "from typing import Type\n",
    "from langchain.chat_models import ChatOpenAI\n",
    "from langchain.agents import initialize_agent, AgentType\n",
    "from langchain.tools import BaseTool\n",
    "from pydantic import BaseModel, Field\n",
    "from langchain.utilities import DuckDuckGoSearchAPIWrapper\n",
    "\n",
    "llm = ChatOpenAI(\n",
    "    temperature=0.1,\n",
    ")\n",
    "\n",
    "class StockMarketSymbolSearchToolArgsSchema(BaseModel):\n",
    "    query : str = Field(\n",
    "        description=\"The Query you will search for. Example quesry: Stock Market Symbol for Apple Company\"\n",
    "    )\n",
    "\n",
    "class StockMarketSymbolSearchTool(BaseTool):\n",
    "    name : str =\"StockMarketSymbolSearchTool\"\n",
    "    description : str = \"\"\"\n",
    "    Use this toll to find the stock market symbol for a company.\n",
    "    It takes a query as an argument.\n",
    "    \"\"\"\n",
    "    args_schema : Type[StockMarketSymbolSearchToolArgsSchema] = StockMarketSymbolSearchToolArgsSchema\n",
    "\n",
    "    def _run(self, query):\n",
    "        ddg = DuckDuckGoSearchAPIWrapper()\n",
    "        return ddg.run(query)\n",
    "\n",
    "\n",
    "agent = initialize_agent(\n",
    "    llm=llm,\n",
    "    verbose=True,\n",
    "    agent=AgentType.OPENAI_FUNCTIONS,\n",
    "    handle_parsing_errors=True,\n",
    "    tools=[\n",
    "        StockMarketSymbolSearchTool(),\n",
    "    ]\n",
    ")\n",
    "\n",
    "prompt = \"Give me information on Rigetti Computing Inc's stock and help me analyze if it's a potential good investment. Also tell me what symbol does the stock have.\"\n",
    "agent.invoke(prompt)"
   ]
  },
  {
   "cell_type": "markdown",
   "metadata": {},
   "source": []
  }
 ],
 "metadata": {
  "kernelspec": {
   "display_name": "env",
   "language": "python",
   "name": "python3"
  },
  "language_info": {
   "name": "python",
   "version": "3.11.10"
  }
 },
 "nbformat": 4,
 "nbformat_minor": 2
}
