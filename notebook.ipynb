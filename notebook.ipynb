{
 "cells": [
  {
   "cell_type": "code",
   "execution_count": 1,
   "metadata": {},
   "outputs": [],
   "source": [
    "from langchain.chat_models import ChatOpenAI\n",
    "from langchain.prompts import ChatPromptTemplate\n",
    "from langchain.callbacks import StreamingStdOutCallbackHandler\n",
    "\n",
    "llm = ChatOpenAI( model_name=\"gpt-3.5-turbo\",temperature=0.1, streaming=True, callbacks=[StreamingStdOutCallbackHandler()])\n",
    "\n",
    "\n",
    "haiku_template = ChatPromptTemplate.from_messages([\n",
    "  (\"system\", \"you are the topest Japanese Haiku teller. You create example of Haiku with keyword Human gave you\"),\n",
    "  (\"human\", \"I want to create Haiku about {programming_language}.\"),\n",
    "])\n",
    "\n",
    "haiku_chain = haiku_template | llm"
   ]
  },
  {
   "cell_type": "code",
   "execution_count": 2,
   "metadata": {},
   "outputs": [
    {
     "name": "stdout",
     "output_type": "stream",
     "text": [
      "In the deep forest,\n",
      "Python slithers gracefully,\n",
      "Nature's silent code.This Haiku is about a python moving gracefully in the deep forest. It highlights the beauty and elegance of nature's creatures, like the python, as they move silently through their natural habitat. The poet is appreciating the harmony and balance of the natural world. It teaches us to observe and appreciate the beauty of nature and the creatures that inhabit it."
     ]
    },
    {
     "data": {
      "text/plain": [
       "AIMessageChunk(content=\"This Haiku is about a python moving gracefully in the deep forest. It highlights the beauty and elegance of nature's creatures, like the python, as they move silently through their natural habitat. The poet is appreciating the harmony and balance of the natural world. It teaches us to observe and appreciate the beauty of nature and the creatures that inhabit it.\")"
      ]
     },
     "execution_count": 2,
     "metadata": {},
     "output_type": "execute_result"
    }
   ],
   "source": [
    "haiku_explain_template = ChatPromptTemplate.from_messages([\n",
    "  (\"system\",\"You are the best analysist of Haiku. You will explain what the Haiku mean which can be understand even by elementary school students\"),\n",
    "  (\"human\",\"{explain}\"),\n",
    "])\n",
    "\n",
    "haiku_explain_chain = haiku_explain_template | llm\n",
    "\n",
    "final_chain = {\"explain\" : haiku_chain} | haiku_explain_chain\n",
    "\n",
    "final_chain.invoke({\n",
    "  \"programming_language\" : \"Python\"\n",
    "})"
   ]
  }
 ],
 "metadata": {
  "kernelspec": {
   "display_name": "env",
   "language": "python",
   "name": "python3"
  },
  "language_info": {
   "codemirror_mode": {
    "name": "ipython",
    "version": 3
   },
   "file_extension": ".py",
   "mimetype": "text/x-python",
   "name": "python",
   "nbconvert_exporter": "python",
   "pygments_lexer": "ipython3",
   "version": "3.11.10"
  }
 },
 "nbformat": 4,
 "nbformat_minor": 2
}
