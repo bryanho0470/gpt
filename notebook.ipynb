{
 "cells": [
  {
   "cell_type": "code",
   "execution_count": 6,
   "metadata": {},
   "outputs": [],
   "source": [
    "from langchain.chat_models import ChatOpenAI\n",
    "from langchain.prompts import ChatPromptTemplate\n",
    "from langchain.callbacks import StreamingStdOutCallbackHandler\n",
    "\n",
    "chat = ChatOpenAI(\n",
    "    temperature=0.1,\n",
    "    streaming=True,\n",
    "    callbacks=[\n",
    "        StreamingStdOutCallbackHandler(),\n",
    "    ]\n",
    ")\n",
    "\n",
    "chef_prompt = ChatPromptTemplate.from_messages(\n",
    "    [\n",
    "        (\"system\", \"You are a world-class international chef. You create easy to follow recipes that are loved by millions. You are known for your unique and innovative recipes that are both delicious and healthy and easy to find ingredients to use in your recipes.\"),\n",
    "        (\"human\", \"I want to cook {cuisine} food.\"),\n",
    "    ]\n",
    ")\n",
    "\n",
    "chef_chain = chef_prompt | chat\n",
    "\n"
   ]
  },
  {
   "cell_type": "code",
   "execution_count": 7,
   "metadata": {},
   "outputs": [
    {
     "name": "stdout",
     "output_type": "stream",
     "text": [
      "Mongolian cuisine is known for its hearty and flavorful dishes, often featuring meat, dairy, and grains. One popular Mongolian dish is Mongolian Beef, which is a delicious and savory stir-fry dish that is easy to make at home. Here is my easy-to-follow recipe for Mongolian Beef:\n",
      "\n",
      "Ingredients:\n",
      "- 1 lb flank steak, thinly sliced against the grain\n",
      "- 2 tablespoons cornstarch\n",
      "- 3 tablespoons vegetable oil\n",
      "- 3 cloves garlic, minced\n",
      "- 1 teaspoon ginger, minced\n",
      "- 1/2 cup soy sauce\n",
      "- 1/2 cup water\n",
      "- 1/2 cup brown sugar\n",
      "- 1/2 teaspoon red pepper flakes (optional)\n",
      "- Green onions, chopped for garnish\n",
      "- Cooked rice, for serving\n",
      "\n",
      "Instructions:\n",
      "1. In a bowl, toss the sliced flank steak with cornstarch until well coated. Set aside.\n",
      "2. In a separate bowl, mix together soy sauce, water, and brown sugar until the sugar is dissolved. Set aside.\n",
      "3. Heat 2 tablespoons of vegetable oil in a large skillet or wok over medium-high heat.\n",
      "4. Add the sliced flank steak to the skillet in a single layer and cook for 2-3 minutes until browned. Flip the steak slices and cook for an additional 2-3 minutes. Remove the steak from the skillet and set aside.\n",
      "5. In the same skillet, add the remaining tablespoon of vegetable oil. Add the minced garlic and ginger, and sauté for about 1 minute until fragrant.\n",
      "6. Return the cooked steak to the skillet and pour the soy sauce mixture over the steak. Add red pepper flakes if desired.\n",
      "7. Cook for an additional 2-3 minutes, stirring occasionally, until the sauce has thickened and the steak is cooked through.\n",
      "8. Remove from heat and garnish with chopped green onions.\n",
      "9. Serve the Mongolian Beef hot over cooked rice.\n",
      "\n",
      "Enjoy your homemade Mongolian Beef!To make this Mongolian Beef recipe vegetarian, we can replace the flank steak with a plant-based alternative such as seitan or tempeh. Here's the modified recipe:\n",
      "\n",
      "Ingredients:\n",
      "- 1 lb seitan or tempeh, thinly sliced\n",
      "- 2 tablespoons cornstarch\n",
      "- 3 tablespoons vegetable oil\n",
      "- 3 cloves garlic, minced\n",
      "- 1 teaspoon ginger, minced\n",
      "- 1/2 cup soy sauce\n",
      "- 1/2 cup water\n",
      "- 1/2 cup brown sugar\n",
      "- 1/2 teaspoon red pepper flakes (optional)\n",
      "- Green onions, chopped for garnish\n",
      "- Cooked rice, for serving\n",
      "\n",
      "Instructions:\n",
      "1. In a bowl, toss the sliced seitan or tempeh with cornstarch until well coated. Set aside.\n",
      "2. In a separate bowl, mix together soy sauce, water, and brown sugar until the sugar is dissolved. Set aside.\n",
      "3. Heat 2 tablespoons of vegetable oil in a large skillet or wok over medium-high heat.\n",
      "4. Add the sliced seitan or tempeh to the skillet in a single layer and cook for 2-3 minutes until browned. Flip the slices and cook for an additional 2-3 minutes. Remove from the skillet and set aside.\n",
      "5. In the same skillet, add the remaining tablespoon of vegetable oil. Add the minced garlic and ginger, and sauté for about 1 minute until fragrant.\n",
      "6. Return the cooked seitan or tempeh to the skillet and pour the soy sauce mixture over it. Add red pepper flakes if desired.\n",
      "7. Cook for an additional 2-3 minutes, stirring occasionally, until the sauce has thickened and the seitan or tempeh is heated through.\n",
      "8. Remove from heat and garnish with chopped green onions.\n",
      "9. Serve the vegetarian Mongolian Beef hot over cooked rice.\n",
      "\n",
      "Enjoy your homemade Vegetarian Mongolian Beef!"
     ]
    },
    {
     "data": {
      "text/plain": [
       "AIMessageChunk(content=\"To make this Mongolian Beef recipe vegetarian, we can replace the flank steak with a plant-based alternative such as seitan or tempeh. Here's the modified recipe:\\n\\nIngredients:\\n- 1 lb seitan or tempeh, thinly sliced\\n- 2 tablespoons cornstarch\\n- 3 tablespoons vegetable oil\\n- 3 cloves garlic, minced\\n- 1 teaspoon ginger, minced\\n- 1/2 cup soy sauce\\n- 1/2 cup water\\n- 1/2 cup brown sugar\\n- 1/2 teaspoon red pepper flakes (optional)\\n- Green onions, chopped for garnish\\n- Cooked rice, for serving\\n\\nInstructions:\\n1. In a bowl, toss the sliced seitan or tempeh with cornstarch until well coated. Set aside.\\n2. In a separate bowl, mix together soy sauce, water, and brown sugar until the sugar is dissolved. Set aside.\\n3. Heat 2 tablespoons of vegetable oil in a large skillet or wok over medium-high heat.\\n4. Add the sliced seitan or tempeh to the skillet in a single layer and cook for 2-3 minutes until browned. Flip the slices and cook for an additional 2-3 minutes. Remove from the skillet and set aside.\\n5. In the same skillet, add the remaining tablespoon of vegetable oil. Add the minced garlic and ginger, and sauté for about 1 minute until fragrant.\\n6. Return the cooked seitan or tempeh to the skillet and pour the soy sauce mixture over it. Add red pepper flakes if desired.\\n7. Cook for an additional 2-3 minutes, stirring occasionally, until the sauce has thickened and the seitan or tempeh is heated through.\\n8. Remove from heat and garnish with chopped green onions.\\n9. Serve the vegetarian Mongolian Beef hot over cooked rice.\\n\\nEnjoy your homemade Vegetarian Mongolian Beef!\")"
      ]
     },
     "execution_count": 7,
     "metadata": {},
     "output_type": "execute_result"
    }
   ],
   "source": [
    "veg_chef_prompt = ChatPromptTemplate.from_messages(\n",
    "    [\n",
    "        (\"system\", \"you are a vegetarian chef who specialized on making traditional recipies vegetarian. you find alternative ingredients to make the dish vegetarian and healthy. You don't redically modify the reciepe. if there is no alternative for a food just say you don't know how to replace it.\"),\n",
    "        (\"human\", \"{recipe}\")\n",
    "    ]\n",
    ")\n",
    "\n",
    "veg_chain = veg_chef_prompt | chat\n",
    "\n",
    "final_chain = {\"recipe\": chef_chain} | veg_chain\n",
    "# final chain want to attach the recipe value from running the chef_chain. so final chain will pass {cuisine} to chef_chain. and the rerults pass to chat and generate answer. then the answer will attach to {recipe} and pass to veg_chain. vage_chain will pass {recipe} to veg_chef_prompt and pass to chat and generate answer.\n",
    "\n",
    "final_chain.invoke({\"cuisine\": \"mongolia\"})"
   ]
  }
 ],
 "metadata": {
  "kernelspec": {
   "display_name": "env",
   "language": "python",
   "name": "python3"
  },
  "language_info": {
   "codemirror_mode": {
    "name": "ipython",
    "version": 3
   },
   "file_extension": ".py",
   "mimetype": "text/x-python",
   "name": "python",
   "nbconvert_exporter": "python",
   "pygments_lexer": "ipython3",
   "version": "3.11.10"
  }
 },
 "nbformat": 4,
 "nbformat_minor": 2
}
