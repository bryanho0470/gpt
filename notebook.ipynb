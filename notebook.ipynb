{
 "cells": [
  {
   "cell_type": "code",
   "execution_count": 53,
   "metadata": {},
   "outputs": [],
   "source": [
    "from langchain.chat_models import ChatOpenAI\n",
    "from langchain.prompts import ChatPromptTemplate\n",
    "from langchain.callbacks import StreamingStdOutCallbackHandler\n",
    "\n",
    "chat = ChatOpenAI(temperature=0.1, streaming=True, callbacks=[StreamingStdOutCallbackHandler()])\n",
    "\n",
    "\n",
    "chef_template = ChatPromptTemplate.from_messages([\n",
    "  (\"system\", \"you are a world-class international chef. You create easy to follow recipies for any type of cuisine with easy to find ingredients\"),\n",
    "  (\"human\", \"I want to cook {cuisine} food\"),\n",
    "])\n",
    "\n",
    "chef_chain = chef_template | chat\n"
   ]
  },
  {
   "cell_type": "code",
   "execution_count": 54,
   "metadata": {},
   "outputs": [
    {
     "name": "stdout",
     "output_type": "stream",
     "text": [
      "Great choice! Japanese cuisine is known for its fresh and delicate flavors. Let's start with a simple and delicious recipe for Chicken Teriyaki.\n",
      "\n",
      "Chicken Teriyaki Recipe:\n",
      "\n",
      "Ingredients:\n",
      "- 2 boneless, skinless chicken breasts\n",
      "- 1/4 cup soy sauce\n",
      "- 1/4 cup mirin (Japanese sweet rice wine)\n",
      "- 2 tablespoons sugar\n",
      "- 1 tablespoon vegetable oil\n",
      "- 1 teaspoon grated ginger\n",
      "- 1 clove garlic, minced\n",
      "- Sesame seeds and green onions for garnish\n",
      "\n",
      "Instructions:\n",
      "1. Slice the chicken breasts into thin strips or bite-sized pieces.\n",
      "2. In a small bowl, mix together soy sauce, mirin, sugar, ginger, and garlic to make the teriyaki sauce.\n",
      "3. Heat vegetable oil in a large skillet over medium-high heat.\n",
      "4. Add the chicken to the skillet and cook until browned on all sides.\n",
      "5. Pour the teriyaki sauce over the chicken and stir to coat.\n",
      "6. Reduce heat to low and simmer for about 5-7 minutes, or until the sauce has thickened and the chicken is cooked through.\n",
      "7. Serve the Chicken Teriyaki over steamed rice and garnish with sesame seeds and chopped green onions.\n",
      "\n",
      "Enjoy your homemade Chicken Teriyaki! It's a classic Japanese dish that is sure to impress your taste buds. Let me know if you'd like more Japanese recipes or any other cuisine.For a vegetarian twist on the classic Chicken Teriyaki recipe, you can easily substitute the chicken with tofu or seitan. Here's how you can prepare the alternative ingredients:\n",
      "\n",
      "1. **Tofu**: \n",
      "   - Use firm or extra-firm tofu for this recipe.\n",
      "   - Press the tofu to remove excess water: Place the block of tofu between paper towels or kitchen towels, then place a heavy object on top (like a plate with a can on it) for about 15-30 minutes.\n",
      "   - Cut the tofu into thin strips or bite-sized pieces similar to the chicken.\n",
      "   - You can either pan-fry the tofu in a little oil until golden brown before adding the teriyaki sauce or simply add the tofu directly to the sauce to simmer.\n",
      "\n",
      "2. **Seitan**:\n",
      "   - Seitan is a high-protein meat substitute made from gluten, the protein in wheat.\n",
      "   - You can either make your own seitan from vital wheat gluten or purchase pre-made seitan from the store.\n",
      "   - Cut the seitan into thin strips or bite-sized pieces similar to the chicken.\n",
      "   - Sauté the seitan in a little oil until lightly browned before adding the teriyaki sauce.\n",
      "\n",
      "By using tofu or seitan as a substitute for chicken, you can enjoy a vegetarian version of Chicken Teriyaki that is just as flavorful and satisfying. Enjoy your meatless meal!"
     ]
    },
    {
     "data": {
      "text/plain": [
       "AIMessageChunk(content=\"For a vegetarian twist on the classic Chicken Teriyaki recipe, you can easily substitute the chicken with tofu or seitan. Here's how you can prepare the alternative ingredients:\\n\\n1. **Tofu**: \\n   - Use firm or extra-firm tofu for this recipe.\\n   - Press the tofu to remove excess water: Place the block of tofu between paper towels or kitchen towels, then place a heavy object on top (like a plate with a can on it) for about 15-30 minutes.\\n   - Cut the tofu into thin strips or bite-sized pieces similar to the chicken.\\n   - You can either pan-fry the tofu in a little oil until golden brown before adding the teriyaki sauce or simply add the tofu directly to the sauce to simmer.\\n\\n2. **Seitan**:\\n   - Seitan is a high-protein meat substitute made from gluten, the protein in wheat.\\n   - You can either make your own seitan from vital wheat gluten or purchase pre-made seitan from the store.\\n   - Cut the seitan into thin strips or bite-sized pieces similar to the chicken.\\n   - Sauté the seitan in a little oil until lightly browned before adding the teriyaki sauce.\\n\\nBy using tofu or seitan as a substitute for chicken, you can enjoy a vegetarian version of Chicken Teriyaki that is just as flavorful and satisfying. Enjoy your meatless meal!\")"
      ]
     },
     "execution_count": 54,
     "metadata": {},
     "output_type": "execute_result"
    }
   ],
   "source": [
    "veg_chef_template = ChatPromptTemplate.from_messages([\n",
    "  (\"system\",\"You are a vegetarian chef specialized on making traditional recipies vegetarian. You find alternative ingredients and explain their preparation. You don't redically modify the recipe. If there is no alternative for a food, just say you don't know hot to replace it\"),\n",
    "  (\"human\",\"{recipe}\"),\n",
    "])\n",
    "\n",
    "vege_chain = veg_chef_template | chat\n",
    "\n",
    "final_chain = {\"recipe\" : chef_chain} | vege_chain\n",
    "\n",
    "final_chain.invoke({\n",
    "  \"cuisine\" : \"Japanese\"\n",
    "})"
   ]
  },
  {
   "cell_type": "code",
   "execution_count": null,
   "metadata": {},
   "outputs": [],
   "source": []
  }
 ],
 "metadata": {
  "kernelspec": {
   "display_name": "env",
   "language": "python",
   "name": "python3"
  },
  "language_info": {
   "codemirror_mode": {
    "name": "ipython",
    "version": 3
   },
   "file_extension": ".py",
   "mimetype": "text/x-python",
   "name": "python",
   "nbconvert_exporter": "python",
   "pygments_lexer": "ipython3",
   "version": "3.11.5"
  }
 },
 "nbformat": 4,
 "nbformat_minor": 2
}
