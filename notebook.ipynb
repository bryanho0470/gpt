{
 "cells": [
  {
   "cell_type": "code",
   "execution_count": 61,
   "metadata": {},
   "outputs": [
    {
     "name": "stdout",
     "output_type": "stream",
     "text": [
      "AI: \n",
      "    Here is what I know:\n",
      "    Capital: Athens\n",
      "    Language: Greek\n",
      "    Food: Gyros and Souvlaki\n",
      "    Currency: Euro"
     ]
    },
    {
     "data": {
      "text/plain": [
       "AIMessageChunk(content='AI: \\n    Here is what I know:\\n    Capital: Athens\\n    Language: Greek\\n    Food: Gyros and Souvlaki\\n    Currency: Euro')"
      ]
     },
     "execution_count": 61,
     "metadata": {},
     "output_type": "execute_result"
    }
   ],
   "source": [
    "from langchain.chat_models import ChatOpenAI\n",
    "from langchain.prompts import PromptTemplate\n",
    "from langchain.prompts.few_shot import FewShotPromptTemplate\n",
    "from langchain.callbacks import StreamingStdOutCallbackHandler\n",
    "\n",
    "chat = ChatOpenAI(\n",
    "  temperature=0.1,\n",
    "  streaming=True,\n",
    "  callbacks= [\n",
    "    StreamingStdOutCallbackHandler()\n",
    "  ],\n",
    ")\n",
    "\n",
    "examples = [\n",
    "  {\n",
    "    \"question\": \"What do you know about France?\",\n",
    "    \"answer\" : \"\"\"\n",
    "    Here is what i know :\n",
    "    Capital : Paris\n",
    "    Language: French\n",
    "    Food: Wine and Cheese\n",
    "    Currency : Euro\n",
    "    \"\"\",\n",
    "  },\n",
    "  {\n",
    "    \"question\":\"What do you know about Italy?\",\n",
    "    \"answer\": \"\"\"\n",
    "    Here is what i know:\n",
    "    Capital : Rome\n",
    "    Language: Italian\n",
    "    Food: Pizza and Pasta\n",
    "    Currency : Euro\n",
    "    \"\"\",\n",
    "  },\n",
    "  {\n",
    "    \"question\":\"What do you know about Korea?\",\n",
    "    \"answer\" : \"\"\"\n",
    "    Here is what i know:\n",
    "    Capital : Seoul\n",
    "    Language : Korean\n",
    "    Food: Kimchi and Samgyopsal\n",
    "    Currency : Won\n",
    "    \"\"\"\n",
    "  }\n",
    "]\n",
    "\n",
    "example_template = \"\"\"Human : {question}\n",
    "                      AI : {answer}\n",
    "                  \"\"\"\n",
    "\n",
    "example_prompt = PromptTemplate.from_template(example_template)\n",
    "\n",
    "prompt = FewShotPromptTemplate(\n",
    "  example_prompt=example_prompt,\n",
    "  examples=examples,\n",
    "  suffix=\"Human: What do you know about {country}?\",\n",
    "  input_variables=[\"country\"],\n",
    ")\n",
    "\n",
    "chain = prompt | chat\n",
    "\n",
    "chain.invoke({\n",
    "  \"country\" : \"GREEK\"\n",
    "})\n"
   ]
  },
  {
   "cell_type": "code",
   "execution_count": null,
   "metadata": {},
   "outputs": [],
   "source": []
  }
 ],
 "metadata": {
  "kernelspec": {
   "display_name": "env",
   "language": "python",
   "name": "python3"
  },
  "language_info": {
   "codemirror_mode": {
    "name": "ipython",
    "version": 3
   },
   "file_extension": ".py",
   "mimetype": "text/x-python",
   "name": "python",
   "nbconvert_exporter": "python",
   "pygments_lexer": "ipython3",
   "version": "3.11.5"
  }
 },
 "nbformat": 4,
 "nbformat_minor": 2
}
