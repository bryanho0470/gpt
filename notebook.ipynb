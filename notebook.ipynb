{
 "cells": [
  {
   "cell_type": "code",
   "execution_count": 4,
   "metadata": {},
   "outputs": [],
   "source": [
    "from langchain.chat_models import ChatOpenAI\n",
    "from langchain.prompts import ChatPromptTemplate\n",
    "from langchain.callbacks import StreamingStdOutCallbackHandler\n",
    "\n",
    "chat = ChatOpenAI(\n",
    "    temperature=0.1,\n",
    "    streaming=True,\n",
    "    callbacks=[\n",
    "        StreamingStdOutCallbackHandler(),\n",
    "    ]\n",
    ")\n",
    "\n",
    "chef_prompt = ChatPromptTemplate.from_messages(\n",
    "    [\n",
    "        (\"system\", \"You are a world-class international chef. You create easy to follow recipes that are loved by millions. You are known for your unique and innovative recipes that are both delicious and healthy and easy to find ingredients to use in your recipes.\"),\n",
    "        (\"human\", \"I want to cook {cuisine} food.\"),\n",
    "    ]\n",
    ")\n",
    "\n",
    "chef_chain = chef_prompt | chat"
   ]
  },
  {
   "cell_type": "code",
   "execution_count": null,
   "metadata": {},
   "outputs": [
    {
     "name": "stdout",
     "output_type": "stream",
     "text": [
      "One popular Mongolian dish that you can try making is Mongolian Beef. It's a flavorful and savory dish that is sure to impress your taste buds. Here's a simple recipe for you to try at home:\n",
      "\n",
      "Ingredients:\n",
      "- 1 lb flank steak, thinly sliced\n",
      "- 2 tablespoons cornstarch\n",
      "- 2 tablespoons vegetable oil\n",
      "- 3 cloves garlic, minced\n",
      "- 1 teaspoon ginger, minced\n",
      "- 1/2 cup soy sauce\n",
      "- 1/2 cup water\n",
      "- 1/2 cup brown sugar\n",
      "- 1/2 teaspoon red pepper flakes (optional)\n",
      "- Green onions, chopped for garnish\n",
      "- Sesame seeds for garnish\n",
      "\n",
      "Instructions:\n",
      "1. In a bowl, toss the thinly sliced flank steak with cornstarch until well coated.\n",
      "2. Heat vegetable oil in a large skillet or wok over medium-high heat. Add the steak slices and cook until browned, about 2-3 minutes per side. Remove the steak from the skillet and set aside.\n",
      "3. In the same skillet, add a bit more oil if needed and sauté the garlic and ginger until fragrant, about 1 minute.\n",
      "4. Add soy sauce, water, brown sugar, and red pepper flakes to the skillet. Stir well to combine and bring to a simmer.\n",
      "5. Return the cooked steak to the skillet and toss to coat in the sauce. Cook for an additional 2-3 minutes until the sauce has thickened slightly.\n",
      "6. Serve the Mongolian Beef over steamed rice and garnish with chopped green onions and sesame seeds.\n",
      "\n",
      "Enjoy your homemade Mongolian Beef!To make a vegetarian version of Mongolian Beef, we can replace the flank steak with a plant-based alternative such as seitan or tempeh. Here's how you can modify the recipe:\n",
      "\n",
      "Ingredients:\n",
      "- 1 lb seitan or tempeh, thinly sliced\n",
      "- 2 tablespoons cornstarch\n",
      "- 2 tablespoons vegetable oil\n",
      "- 3 cloves garlic, minced\n",
      "- 1 teaspoon ginger, minced\n",
      "- 1/2 cup soy sauce\n",
      "- 1/2 cup water\n",
      "- 1/2 cup brown sugar\n",
      "- 1/2 teaspoon red pepper flakes (optional)\n",
      "- Green onions, chopped for garnish\n",
      "- Sesame seeds for garnish\n",
      "\n",
      "Instructions:\n",
      "1. In a bowl, toss the thinly sliced seitan or tempeh with cornstarch until well coated.\n",
      "2. Heat vegetable oil in a large skillet or wok over medium-high heat. Add the seitan or tempeh slices and cook until browned, about 2-3 minutes per side. Remove the seitan or tempeh from the skillet and set aside.\n",
      "3. In the same skillet, add a bit more oil if needed and sauté the garlic and ginger until fragrant, about 1 minute.\n",
      "4. Add soy sauce, water, brown sugar, and red pepper flakes to the skillet. Stir well to combine and bring to a simmer.\n",
      "5. Return the cooked seitan or tempeh to the skillet and toss to coat in the sauce. Cook for an additional 2-3 minutes until the sauce has thickened slightly.\n",
      "6. Serve the Vegetarian Mongolian \"Beef\" over steamed rice and garnish with chopped green onions and sesame seeds.\n",
      "\n",
      "Enjoy your homemade Vegetarian Mongolian \"Beef\"!"
     ]
    },
    {
     "data": {
      "text/plain": [
       "AIMessageChunk(content='To make a vegetarian version of Mongolian Beef, we can replace the flank steak with a plant-based alternative such as seitan or tempeh. Here\\'s how you can modify the recipe:\\n\\nIngredients:\\n- 1 lb seitan or tempeh, thinly sliced\\n- 2 tablespoons cornstarch\\n- 2 tablespoons vegetable oil\\n- 3 cloves garlic, minced\\n- 1 teaspoon ginger, minced\\n- 1/2 cup soy sauce\\n- 1/2 cup water\\n- 1/2 cup brown sugar\\n- 1/2 teaspoon red pepper flakes (optional)\\n- Green onions, chopped for garnish\\n- Sesame seeds for garnish\\n\\nInstructions:\\n1. In a bowl, toss the thinly sliced seitan or tempeh with cornstarch until well coated.\\n2. Heat vegetable oil in a large skillet or wok over medium-high heat. Add the seitan or tempeh slices and cook until browned, about 2-3 minutes per side. Remove the seitan or tempeh from the skillet and set aside.\\n3. In the same skillet, add a bit more oil if needed and sauté the garlic and ginger until fragrant, about 1 minute.\\n4. Add soy sauce, water, brown sugar, and red pepper flakes to the skillet. Stir well to combine and bring to a simmer.\\n5. Return the cooked seitan or tempeh to the skillet and toss to coat in the sauce. Cook for an additional 2-3 minutes until the sauce has thickened slightly.\\n6. Serve the Vegetarian Mongolian \"Beef\" over steamed rice and garnish with chopped green onions and sesame seeds.\\n\\nEnjoy your homemade Vegetarian Mongolian \"Beef\"!')"
      ]
     },
     "execution_count": 5,
     "metadata": {},
     "output_type": "execute_result"
    }
   ],
   "source": [
    "veg_chef_prompt = ChatPromptTemplate.from_messages(\n",
    "    [\n",
    "        (\"system\", \"you are a vegetarian chef who specialized on making traditional recipies vegetarian. you find alternative ingredients to make the dish vegetarian and healthy. You don't redically modify the reciepe. if there is no alternative for a food just say you don't know how to replace it.\"),\n",
    "        (\"human\", \"{recipe}\")\n",
    "    ]\n",
    ")\n",
    "\n",
    "veg_chain = veg_chef_prompt | chat\n",
    "\n",
    "final_chain = {\"recipe\": chef_chain} | veg_chain\n",
    "# final chain want to attach the recipe value from running the chef_chain. so final chain will pass {cuisine} to chef_chain. and the rerults pass to chat and generate answer. then the answer will attach to {recipe} and pass to veg_chain. vage_chain will pass {recipe} to veg_chef_prompt and pass to chat and generate answer.\n",
    "\n",
    "final_chain.invoke({\"cuisine\": \"mongolia\"})"
   ]
  }
 ],
 "metadata": {
  "kernelspec": {
   "display_name": "env",
   "language": "python",
   "name": "python3"
  },
  "language_info": {
   "codemirror_mode": {
    "name": "ipython",
    "version": 3
   },
   "file_extension": ".py",
   "mimetype": "text/x-python",
   "name": "python",
   "nbconvert_exporter": "python",
   "pygments_lexer": "ipython3",
   "version": "3.11.10"
  }
 },
 "nbformat": 4,
 "nbformat_minor": 2
}
