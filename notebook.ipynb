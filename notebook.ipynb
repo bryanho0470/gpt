{
 "cells": [
  {
   "cell_type": "code",
   "execution_count": 69,
   "metadata": {},
   "outputs": [
    {
     "data": {
      "text/plain": [
       "'human: Italy \\n AI: \\n    Here is what i know:\\n    Capital : Rome\\n    Language: Italian\\n    Food: Pizza and Pasta\\n    Currency : Euro\\n    \\n\\nHuman: What do you know about Russia?'"
      ]
     },
     "execution_count": 69,
     "metadata": {},
     "output_type": "execute_result"
    }
   ],
   "source": [
    "from typing import Any, Dict, List\n",
    "from langchain.chat_models import ChatOpenAI\n",
    "from langchain.prompts import example_selector\n",
    "from langchain.prompts import PromptTemplate\n",
    "from langchain.prompts.few_shot import FewShotPromptTemplate\n",
    "from langchain.callbacks import StreamingStdOutCallbackHandler\n",
    "from langchain.prompts.example_selector.base import BaseExampleSelector\n",
    "\n",
    "# LLM model setting\n",
    "chat = ChatOpenAI(\n",
    "  temperature=0.1,\n",
    "  streaming=True,\n",
    "  callbacks= [\n",
    "    StreamingStdOutCallbackHandler()\n",
    "  ],\n",
    ")\n",
    "\n",
    "# give the example to FewShotChat. we can bring many other example from some data base\n",
    "examples = [\n",
    "  {\n",
    "    \"question\": \"France\",\n",
    "    \"answer\" : \"\"\"\n",
    "    Here is what i know :\n",
    "    Capital : Paris\n",
    "    Language: French\n",
    "    Food: Wine and Cheese\n",
    "    Currency : Euro\n",
    "    \"\"\",\n",
    "  },\n",
    "  {\n",
    "    \"question\":\"Italy\",\n",
    "    \"answer\": \"\"\"\n",
    "    Here is what i know:\n",
    "    Capital : Rome\n",
    "    Language: Italian\n",
    "    Food: Pizza and Pasta\n",
    "    Currency : Euro\n",
    "    \"\"\",\n",
    "  },\n",
    "  {\n",
    "    \"question\":\"Korea\",\n",
    "    \"answer\" : \"\"\"\n",
    "    Here is what i know:\n",
    "    Capital : Seoul\n",
    "    Language : Korean\n",
    "    Food: Kimchi and Samgyopsal\n",
    "    Currency : Won\n",
    "    \"\"\"\n",
    "  }\n",
    "]\n",
    "\n",
    "class RandomExampleSelector(BaseExampleSelector):\n",
    "\n",
    "  def __init__(self, examples):\n",
    "    self.examples = examples\n",
    "\n",
    "  def add_example(self, example):\n",
    "    self.examples.append(example)\n",
    "\n",
    "  def select_examples(self, input_variables):\n",
    "    from random import choice\n",
    "    return [choice(self.examples)]\n",
    "\n",
    "  \n",
    "example_prompt = PromptTemplate.from_template(\"human: {question} \\n AI: {answer}\")\n",
    "\n",
    "example_selector = RandomExampleSelector(\n",
    "  examples=examples,\n",
    ")\n",
    "\n",
    "prompt = FewShotPromptTemplate(\n",
    "  example_prompt=example_prompt,\n",
    "  example_selector=example_selector,\n",
    "  suffix=\"Human: What do you know about {country}?\",\n",
    "  input_variables=[\"country\"]\n",
    ")\n",
    "\n",
    "# chain = prompt | chat\n",
    "\n",
    "prompt.format(country = \"Russia\")\n",
    "\n",
    "# chain.invoke({\n",
    "#   \"country\" : \"Russia\"\n",
    "# })\n"
   ]
  },
  {
   "cell_type": "code",
   "execution_count": null,
   "metadata": {},
   "outputs": [],
   "source": []
  }
 ],
 "metadata": {
  "kernelspec": {
   "display_name": "env",
   "language": "python",
   "name": "python3"
  },
  "language_info": {
   "codemirror_mode": {
    "name": "ipython",
    "version": 3
   },
   "file_extension": ".py",
   "mimetype": "text/x-python",
   "name": "python",
   "nbconvert_exporter": "python",
   "pygments_lexer": "ipython3",
   "version": "3.11.5"
  }
 },
 "nbformat": 4,
 "nbformat_minor": 2
}
